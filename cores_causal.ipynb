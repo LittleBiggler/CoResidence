{
 "cells": [
  {
   "cell_type": "markdown",
   "id": "6a0a082c-b052-42be-a0a4-3a73d0d3389f",
   "metadata": {},
   "source": [
    "# Imports"
   ]
  },
  {
   "cell_type": "code",
   "execution_count": 1,
   "id": "eb87136e-d404-4575-8082-d6120d8157b0",
   "metadata": {},
   "outputs": [],
   "source": [
    "import pandas as pd\n",
    "import numpy as np\n",
    "import matplotlib.pyplot as plt\n",
    "import seaborn as sns\n",
    "\n",
    "from sklearn.linear_model import LinearRegression\n",
    "\n",
    "# formula api vs. array-based\n",
    "import statsmodels.formula.api as smf\n",
    "\n",
    "# panel OLS for sanity check\n",
    "from linearmodels.panel import PanelOLS\n",
    "\n",
    "# contrasts for sanity check\n",
    "from patsy.contrasts import Treatment as CTR\n"
   ]
  },
  {
   "cell_type": "markdown",
   "id": "c367f954-51e1-400d-8ae0-dd3d87e969d0",
   "metadata": {},
   "source": [
    "# Project Summary  \n",
    "\n",
    "This project investigates where there is a causal relationship between the liberalization of divorce laws and wealth inequality as measured by the Gini index.\n",
    "\n",
    "We conduct a staggered difference in difference analysis on observational data, with two way fixed effects (twfe) treatment. Since our data is observational, we consider the \"treatment\" event to be the passage of divorce laws. \n",
    "\n",
    "Analysis is conducted both with frequentist (t-test in statsmodels) and Bayesian approaches. The Bayes Factor gives us a principled way to assess causality, without requiring normality assumptions under null hypothesis, which ttest analysis requires. \n",
    "\n",
    "We have no reason to believe that Gini index would be normally distributed even under a null hypothesis, and some reasons to believe that it would be skewed. Thus, a Bayes Factor analysis may be more revealing.\n",
    "\n",
    "Assigning a treatment group was more complicated than it seems. There are gradations of divorce:\n",
    "- Illegal\n",
    "- Legal but requiring proof of fault, such as infidelity, abuse, etc. \"Irreconcilable\" not allowed as reason.\n",
    "- No Fault Lite: Allowing for \"irretrievable breakdown\" or \"irreconcilable differences\" as cited reason, rather than blame, but requiring proof of this status, and/or trial separation periods of varying length\n",
    "- No Fault Mutual: Not requiring proof of status, but requiring mutual agreement for simplified process.\n",
    "- No Fault Unilateral: All that is required is for one party to the marriage to say that it has broken down.\n",
    "\n",
    "For the purposes of this study, we separate the various divorce categories into two main groups:\n",
    "1) Group I: \"irreconcilable differences\" or \"irretrievable breakdown\" not recognized as grounds for divorce, or the process is fundamentally unfair ('favors men')\n",
    "2) Group II: No fault is required, even if demonstrating that 'irreconcilable differences' or 'irretrievable breakdown' has occured\n"
   ]
  },
  {
   "cell_type": "markdown",
   "id": "c9b4334d-7ac5-49d7-a404-b74947094e46",
   "metadata": {},
   "source": [
    "# Datasets and Dependencies\n",
    "\n",
    "This causal analysis is complimentary to a parallel project, \"Coresidence Analysis\", which can be found in the same repository. For clarity, we refer to the previous predictive analysis as \"CoResidence Analysis\", versus \"CoRes Causal\" for the current project.\n",
    "\n",
    "**Note that Gini values have been inverted to improve interpretability**\n",
    "\n",
    "We heavily imputed CoResidence data to address missing values. In CoResidence Analysis, we pushed the limits of imputation to enable forecasting, which typically requires a balanced panel dataset.\n",
    "\n",
    "In CoRes Causal, no significant amount of data will be imputed. Country weighting will be applied to compensate for countries with many more years of data than others. In the previous analysis, we addressed data imbalance through radical imputation. Not here.In CoRes Causal, no significant amount of data will be imputed. Country weighting will be applied to compensate for countries with many more years of data than others. In the previous analysis, we addressed data imbalance through radical imputation. Not here.\n",
    "\n",
    "CoResidence involved \"central log ratio\" transformation of multiple groups of simplex columns. \n",
    "\n",
    "We kept both transformed and un-transformed columns.\n"
   ]
  },
  {
   "cell_type": "markdown",
   "id": "f262e947-0bf5-4fc5-92d2-ffe587806e67",
   "metadata": {},
   "source": [
    "Citation for Cross Reference\n",
    "\n",
    "Countries Where Divorce Is Illegal 2025. World Population Review. Retrieved June 19, 2025, from https://worldpopulationreview.com/country-rankings/countries-where-divorce-is-illegal\n",
    "\n",
    "Cited sources of citation\n",
    "https://en.wikipedia.org/wiki/Divorce_law_by_country\n",
    "https://www.nytimes.com/2023/11/04/world/asia/philippines-divorce-illegal-legislation.html\n",
    "https://www.respicio.ph/features/guide-to-annulment-in-the-philippines-understanding-the-process-and-grounds-for-marriage-nullification\n"
   ]
  },
  {
   "cell_type": "markdown",
   "id": "5d330f3f-3835-49c8-80c3-a5a7ae478a08",
   "metadata": {},
   "source": [
    "# CoResidence Data\n",
    "\n",
    "CoResidence with all merges and imputed targets\n"
   ]
  },
  {
   "cell_type": "code",
   "execution_count": 2,
   "id": "4d796bf8-8acd-4e38-b784-1ab27e120f76",
   "metadata": {},
   "outputs": [
    {
     "data": {
      "text/plain": [
       "(7808, 159)"
      ]
     },
     "execution_count": 2,
     "metadata": {},
     "output_type": "execute_result"
    }
   ],
   "source": [
    "# read in data\n",
    "\n",
    "df_raw = pd.read_csv('./artifact/cores_full_merge.csv')\n",
    "df_raw.shape"
   ]
  },
  {
   "cell_type": "code",
   "execution_count": 3,
   "id": "439e895f-47e5-471d-85fa-9bd368c92781",
   "metadata": {},
   "outputs": [],
   "source": [
    "df = df_raw.copy()"
   ]
  },
  {
   "cell_type": "code",
   "execution_count": 4,
   "id": "f532be99-7fff-4a7c-8c5c-84aa7d81bfd0",
   "metadata": {},
   "outputs": [],
   "source": [
    "# Columns with nulls in \n",
    "h_cols = df.columns[df.columns.str.startswith(('H', 'D', 'P'))]\n",
    "\n",
    "df = df.dropna(subset=h_cols)"
   ]
  },
  {
   "cell_type": "code",
   "execution_count": 5,
   "id": "9ae671d2-741a-41cd-82f9-8da32da267a5",
   "metadata": {},
   "outputs": [
    {
     "data": {
      "text/plain": [
       "(629, 159)"
      ]
     },
     "execution_count": 5,
     "metadata": {},
     "output_type": "execute_result"
    }
   ],
   "source": [
    "df.shape"
   ]
  },
  {
   "cell_type": "markdown",
   "id": "28ff9bc3-783f-495f-a714-f466fb71ea49",
   "metadata": {},
   "source": [
    "# Divorce Data"
   ]
  },
  {
   "cell_type": "code",
   "execution_count": 6,
   "id": "b9b12a73-fc16-4673-a89d-bcf74a49b68f",
   "metadata": {},
   "outputs": [
    {
     "data": {
      "text/html": [
       "<div>\n",
       "<style scoped>\n",
       "    .dataframe tbody tr th:only-of-type {\n",
       "        vertical-align: middle;\n",
       "    }\n",
       "\n",
       "    .dataframe tbody tr th {\n",
       "        vertical-align: top;\n",
       "    }\n",
       "\n",
       "    .dataframe thead th {\n",
       "        text-align: right;\n",
       "    }\n",
       "</style>\n",
       "<table border=\"1\" class=\"dataframe\">\n",
       "  <thead>\n",
       "    <tr style=\"text-align: right;\">\n",
       "      <th></th>\n",
       "      <th>Country</th>\n",
       "      <th>Blame Based</th>\n",
       "      <th>Fault Comment</th>\n",
       "      <th>Irreconcilable Differences</th>\n",
       "      <th>No Fault Comment</th>\n",
       "      <th>Treatment Y/N</th>\n",
       "      <th>Treatment Year</th>\n",
       "      <th>Unnamed: 8</th>\n",
       "      <th>Fault Based</th>\n",
       "      <th>Mutual No Fault</th>\n",
       "      <th>Unilateral No Fault</th>\n",
       "    </tr>\n",
       "  </thead>\n",
       "  <tbody>\n",
       "    <tr>\n",
       "      <th>0</th>\n",
       "      <td>Afghanistan</td>\n",
       "      <td>1977.0</td>\n",
       "      <td>Fault required</td>\n",
       "      <td>NaN</td>\n",
       "      <td>NaN</td>\n",
       "      <td>No</td>\n",
       "      <td>NaN</td>\n",
       "      <td>NaN</td>\n",
       "      <td>NaN</td>\n",
       "      <td>NaN</td>\n",
       "      <td>NaN</td>\n",
       "    </tr>\n",
       "    <tr>\n",
       "      <th>1</th>\n",
       "      <td>Albania</td>\n",
       "      <td>2003.0</td>\n",
       "      <td>Fault required</td>\n",
       "      <td>2013.0</td>\n",
       "      <td>Favors men</td>\n",
       "      <td>No</td>\n",
       "      <td>NaN</td>\n",
       "      <td>NaN</td>\n",
       "      <td>NaN</td>\n",
       "      <td>NaN</td>\n",
       "      <td>NaN</td>\n",
       "    </tr>\n",
       "    <tr>\n",
       "      <th>2</th>\n",
       "      <td>Algeria</td>\n",
       "      <td>1984.0</td>\n",
       "      <td>Fault required</td>\n",
       "      <td>2005.0</td>\n",
       "      <td>Favors men</td>\n",
       "      <td>No</td>\n",
       "      <td>NaN</td>\n",
       "      <td>NaN</td>\n",
       "      <td>NaN</td>\n",
       "      <td>NaN</td>\n",
       "      <td>NaN</td>\n",
       "    </tr>\n",
       "    <tr>\n",
       "      <th>3</th>\n",
       "      <td>Angola</td>\n",
       "      <td>NaN</td>\n",
       "      <td>NaN</td>\n",
       "      <td>1975.0</td>\n",
       "      <td>No fault</td>\n",
       "      <td>Yes</td>\n",
       "      <td>1976.0</td>\n",
       "      <td>NaN</td>\n",
       "      <td>Yes</td>\n",
       "      <td>Yes</td>\n",
       "      <td>One year separation</td>\n",
       "    </tr>\n",
       "    <tr>\n",
       "      <th>4</th>\n",
       "      <td>Argentina</td>\n",
       "      <td>1987.0</td>\n",
       "      <td>Fault required</td>\n",
       "      <td>2015.0</td>\n",
       "      <td>No fault</td>\n",
       "      <td>Yes</td>\n",
       "      <td>2016.0</td>\n",
       "      <td>NaN</td>\n",
       "      <td>No</td>\n",
       "      <td>Yes</td>\n",
       "      <td>Yes</td>\n",
       "    </tr>\n",
       "  </tbody>\n",
       "</table>\n",
       "</div>"
      ],
      "text/plain": [
       "       Country  Blame Based   Fault Comment  Irreconcilable Differences  \\\n",
       "0  Afghanistan       1977.0  Fault required                         NaN   \n",
       "1      Albania       2003.0  Fault required                      2013.0   \n",
       "2      Algeria       1984.0  Fault required                      2005.0   \n",
       "3       Angola          NaN             NaN                      1975.0   \n",
       "4    Argentina       1987.0  Fault required                      2015.0   \n",
       "\n",
       "  No Fault Comment Treatment Y/N  Treatment Year  Unnamed: 8 Fault Based  \\\n",
       "0              NaN            No             NaN         NaN         NaN   \n",
       "1       Favors men            No             NaN         NaN         NaN   \n",
       "2       Favors men            No             NaN         NaN         NaN   \n",
       "3         No fault           Yes          1976.0         NaN         Yes   \n",
       "4         No fault           Yes          2016.0         NaN          No   \n",
       "\n",
       "  Mutual No Fault  Unilateral No Fault  \n",
       "0             NaN                  NaN  \n",
       "1             NaN                  NaN  \n",
       "2             NaN                  NaN  \n",
       "3             Yes  One year separation  \n",
       "4             Yes                  Yes  "
      ]
     },
     "execution_count": 6,
     "metadata": {},
     "output_type": "execute_result"
    }
   ],
   "source": [
    "divorce_data = pd.read_csv('./divorce_table_final.csv', index_col=0)\n",
    "divorce_data.head()"
   ]
  },
  {
   "cell_type": "code",
   "execution_count": 7,
   "id": "c30de511-4be7-46fd-bc3a-e3380fd424d8",
   "metadata": {},
   "outputs": [],
   "source": [
    "# convert \"Treatment Y/N\" to integer\n",
    "\n",
    "divorce_data['Treatment'] = divorce_data['Treatment Y/N'].map({'Yes':1, 'No':0})"
   ]
  },
  {
   "cell_type": "code",
   "execution_count": 8,
   "id": "12c2d134-8666-4f12-95cb-a74eba8458aa",
   "metadata": {},
   "outputs": [
    {
     "data": {
      "text/html": [
       "<div>\n",
       "<style scoped>\n",
       "    .dataframe tbody tr th:only-of-type {\n",
       "        vertical-align: middle;\n",
       "    }\n",
       "\n",
       "    .dataframe tbody tr th {\n",
       "        vertical-align: top;\n",
       "    }\n",
       "\n",
       "    .dataframe thead th {\n",
       "        text-align: right;\n",
       "    }\n",
       "</style>\n",
       "<table border=\"1\" class=\"dataframe\">\n",
       "  <thead>\n",
       "    <tr style=\"text-align: right;\">\n",
       "      <th></th>\n",
       "      <th>Treatment Y/N</th>\n",
       "      <th>Treatment</th>\n",
       "    </tr>\n",
       "  </thead>\n",
       "  <tbody>\n",
       "    <tr>\n",
       "      <th>0</th>\n",
       "      <td>No</td>\n",
       "      <td>0</td>\n",
       "    </tr>\n",
       "    <tr>\n",
       "      <th>1</th>\n",
       "      <td>No</td>\n",
       "      <td>0</td>\n",
       "    </tr>\n",
       "    <tr>\n",
       "      <th>2</th>\n",
       "      <td>No</td>\n",
       "      <td>0</td>\n",
       "    </tr>\n",
       "    <tr>\n",
       "      <th>3</th>\n",
       "      <td>Yes</td>\n",
       "      <td>1</td>\n",
       "    </tr>\n",
       "    <tr>\n",
       "      <th>4</th>\n",
       "      <td>Yes</td>\n",
       "      <td>1</td>\n",
       "    </tr>\n",
       "    <tr>\n",
       "      <th>...</th>\n",
       "      <td>...</td>\n",
       "      <td>...</td>\n",
       "    </tr>\n",
       "    <tr>\n",
       "      <th>152</th>\n",
       "      <td>No</td>\n",
       "      <td>0</td>\n",
       "    </tr>\n",
       "    <tr>\n",
       "      <th>153</th>\n",
       "      <td>Yes</td>\n",
       "      <td>1</td>\n",
       "    </tr>\n",
       "    <tr>\n",
       "      <th>154</th>\n",
       "      <td>No</td>\n",
       "      <td>0</td>\n",
       "    </tr>\n",
       "    <tr>\n",
       "      <th>155</th>\n",
       "      <td>Yes</td>\n",
       "      <td>1</td>\n",
       "    </tr>\n",
       "    <tr>\n",
       "      <th>156</th>\n",
       "      <td>Yes</td>\n",
       "      <td>1</td>\n",
       "    </tr>\n",
       "  </tbody>\n",
       "</table>\n",
       "<p>157 rows × 2 columns</p>\n",
       "</div>"
      ],
      "text/plain": [
       "    Treatment Y/N  Treatment\n",
       "0              No          0\n",
       "1              No          0\n",
       "2              No          0\n",
       "3             Yes          1\n",
       "4             Yes          1\n",
       "..            ...        ...\n",
       "152            No          0\n",
       "153           Yes          1\n",
       "154            No          0\n",
       "155           Yes          1\n",
       "156           Yes          1\n",
       "\n",
       "[157 rows x 2 columns]"
      ]
     },
     "execution_count": 8,
     "metadata": {},
     "output_type": "execute_result"
    }
   ],
   "source": [
    "divorce_data[['Treatment Y/N', 'Treatment']]"
   ]
  },
  {
   "cell_type": "code",
   "execution_count": 9,
   "id": "d3da2075-8950-42e2-bc63-45b7949a4b4e",
   "metadata": {},
   "outputs": [
    {
     "name": "stdout",
     "output_type": "stream",
     "text": [
      "All good and tidy.\n"
     ]
    }
   ],
   "source": [
    "# check if any years are missing from treatment\n",
    "\n",
    "mask = (divorce_data['Treatment'].eq(1) & divorce_data['Treatment Year'].isnull())\n",
    "    \n",
    "if mask.any():  \n",
    "    print(f\"Uh-oh, year missing for {divorce_data.loc[mask, 'Country'].to_list()}\")\n",
    "else:\n",
    "    print('All good and tidy.')"
   ]
  },
  {
   "cell_type": "code",
   "execution_count": 10,
   "id": "db58e118-7fab-45ac-a303-4eeb4ebda581",
   "metadata": {},
   "outputs": [
    {
     "name": "stdout",
     "output_type": "stream",
     "text": [
      "All good and tidy.\n"
     ]
    }
   ],
   "source": [
    "# check if any untreated years have a date in the \"Treatment Year\" column by accident\n",
    "\n",
    "mask = (divorce_data['Treatment Y/N']=='No') & (divorce_data['Treatment Year'].notnull())\n",
    "\n",
    "if mask.any():\n",
    "    print(f\"Uh-oh, year missing for {divorce_data.loc[mask, 'Country'].to_list()}\")\n",
    "else:\n",
    "    print('All good and tidy.')"
   ]
  },
  {
   "cell_type": "code",
   "execution_count": 11,
   "id": "e5e02a3c-d3af-4e7f-8d31-38068162fcde",
   "metadata": {},
   "outputs": [
    {
     "data": {
      "image/png": "[encoded data removed]",
      "text/plain": [
       "<Figure size 640x480 with 1 Axes>"
      ]
     },
     "metadata": {},
     "output_type": "display_data"
    }
   ],
   "source": [
    "# visualize divorce year\n",
    "\n",
    "divorce_data['Treatment Year'].hist(bins=50)\n",
    "plt.title('Treatment Year Distribution - Divorce Data')\n",
    "plt.show()"
   ]
  },
  {
   "cell_type": "code",
   "execution_count": 12,
   "id": "0379959c-3273-4b11-8d21-595ff3b4e8c3",
   "metadata": {},
   "outputs": [
    {
     "name": "stdout",
     "output_type": "stream",
     "text": [
      "0.5159235668789809\n",
      "0.5159235668789809\n"
     ]
    }
   ],
   "source": [
    "# examine distribution of cohorts in divorce data\n",
    "\n",
    "print(divorce_data['Treatment Year'].notnull().sum()/len(divorce_data))\n",
    "print(divorce_data['Treatment Year'].notnull().sum()/(divorce_data['Treatment Year'].notnull().sum()+divorce_data['Treatment Year'].isnull().sum()))\n",
    "\n"
   ]
  },
  {
   "cell_type": "markdown",
   "id": "8d44fc3c-47e9-4970-85bb-28536507b467",
   "metadata": {},
   "source": [
    "# Merge: CoResidence & Divorce Data"
   ]
  },
  {
   "cell_type": "code",
   "execution_count": 13,
   "id": "a54bf5ba-814b-4b24-b74a-2ee3b4b1e50a",
   "metadata": {},
   "outputs": [
    {
     "data": {
      "text/plain": [
       "['Congo, Dem. Rep.',\n",
       " 'Czechia',\n",
       " 'Egypt, Arab Rep.',\n",
       " 'Gambia, The',\n",
       " 'Iran, Islamic Rep.',\n",
       " 'Korea, Rep.',\n",
       " 'Lao PDR',\n",
       " 'North Macedonia',\n",
       " 'West Bank and Gaza',\n",
       " 'Russian Federation',\n",
       " 'Slovak Republic',\n",
       " 'Venezuela, RB',\n",
       " 'Viet Nam',\n",
       " 'Yemen, Rep.']"
      ]
     },
     "execution_count": 13,
     "metadata": {},
     "output_type": "execute_result"
    }
   ],
   "source": [
    "# anticipate merge failures\n",
    "\n",
    "[country for country in df['Country Name'].unique() if country not in divorce_data['Country'].unique()]"
   ]
  },
  {
   "cell_type": "code",
   "execution_count": 14,
   "id": "282d5136-3540-426f-aef0-cf606fd40dd9",
   "metadata": {},
   "outputs": [],
   "source": [
    "# name mapper for improved merge:\n",
    "\n",
    "country_name_mapper = {\n",
    "    'Congo, Dem. Rep.':'Congo',\n",
    " 'Czechia':'Czech Republic',\n",
    " 'Egypt, Arab Rep.':'Egypt',\n",
    " 'Gambia, The':'Gambia',\n",
    " 'Iran, Islamic Rep.':'Iran',\n",
    " 'Korea, Rep.':'South Korea',\n",
    " 'Lao PDR':'Laos',\n",
    " 'North Macedonia':'Macedonia',\n",
    " 'West Bank and Gaza':'Palestine',\n",
    " 'Russian Federation':'Russia',\n",
    " 'Slovak Republic':'Slovakia',\n",
    " 'Venezuela, RB':'Venezuela',\n",
    " 'Viet Nam':'Vietnam',\n",
    " 'Yemen, Rep.':'Yemen'\n",
    "}\n",
    "\n",
    "# reverse\n",
    "country_name_mapper = {\n",
    "    value:key for key, value in country_name_mapper.items()\n",
    "}\n"
   ]
  },
  {
   "cell_type": "code",
   "execution_count": 15,
   "id": "247100e0-26fc-4327-9101-720d3970121b",
   "metadata": {},
   "outputs": [],
   "source": [
    "# update names in right table to prepare for successful merge\n",
    "\n",
    "divorce_data['Country'] = divorce_data['Country'].replace(country_name_mapper)\n"
   ]
  },
  {
   "cell_type": "code",
   "execution_count": 16,
   "id": "08fc042a-0c64-4934-a4bb-482434b14242",
   "metadata": {},
   "outputs": [],
   "source": [
    "# merge with divorce data\n",
    "\n",
    "df_mstr = df.merge(divorce_data, left_on='Country Name', right_on='Country', how='left')"
   ]
  },
  {
   "cell_type": "code",
   "execution_count": 17,
   "id": "ad2486c2-9778-45a4-868d-8aa522c65b77",
   "metadata": {},
   "outputs": [
    {
     "data": {
      "text/html": [
       "<div>\n",
       "<style scoped>\n",
       "    .dataframe tbody tr th:only-of-type {\n",
       "        vertical-align: middle;\n",
       "    }\n",
       "\n",
       "    .dataframe tbody tr th {\n",
       "        vertical-align: top;\n",
       "    }\n",
       "\n",
       "    .dataframe thead th {\n",
       "        text-align: right;\n",
       "    }\n",
       "</style>\n",
       "<table border=\"1\" class=\"dataframe\">\n",
       "  <thead>\n",
       "    <tr style=\"text-align: right;\">\n",
       "      <th></th>\n",
       "      <th>C1</th>\n",
       "      <th>T1</th>\n",
       "      <th>C2</th>\n",
       "      <th>C3</th>\n",
       "      <th>C4</th>\n",
       "      <th>HS01</th>\n",
       "      <th>HS02</th>\n",
       "      <th>HS03</th>\n",
       "      <th>HS04</th>\n",
       "      <th>HS05</th>\n",
       "      <th>...</th>\n",
       "      <th>Fault Comment</th>\n",
       "      <th>Irreconcilable Differences</th>\n",
       "      <th>No Fault Comment</th>\n",
       "      <th>Treatment Y/N</th>\n",
       "      <th>Treatment Year</th>\n",
       "      <th>Unnamed: 8</th>\n",
       "      <th>Fault Based</th>\n",
       "      <th>Mutual No Fault</th>\n",
       "      <th>Unilateral No Fault</th>\n",
       "      <th>Treatment</th>\n",
       "    </tr>\n",
       "  </thead>\n",
       "  <tbody>\n",
       "  </tbody>\n",
       "</table>\n",
       "<p>0 rows × 171 columns</p>\n",
       "</div>"
      ],
      "text/plain": [
       "Empty DataFrame\n",
       "Columns: [C1, T1, C2, C3, C4, HS01, HS02, HS03, HS04, HS05, HS06, HS07, HS08, HS09, HS10, HS12, HS13, HS14, HS15, HS16, HS17, HS18, HS19, HS20, HS21, HS22, HS23, HS24, HS25, HS26, HS27, HS28, HS29, HS30, HR02, HR03, HR04, HR05, HR08, HR09, HR10, HR11, HR14, HR15, HR16, HR17, HR20, HR21, HR22, HR23, HR26, HR27, HR28, HR29, HT01, HT02, HT03, HT04, HT05, HT06, HT07, HT08, HT11, HT12, HT13, HT14, HT15, HT16, HT17, HT18, HT20, HT21, HT22, HT23, HT24, HT27, HT28, HT29, HT30, HT31, HH01, HH03, HH04, HH05, HH06, HH07, HH08, HH09, HH10, HH11, HH12, HH14, HH15, HH16, HH17, HH18, HH19, HH20, HH21, HH22, ...]\n",
       "Index: []\n",
       "\n",
       "[0 rows x 171 columns]"
      ]
     },
     "execution_count": 17,
     "metadata": {},
     "output_type": "execute_result"
    }
   ],
   "source": [
    "df_mstr[df_mstr['Treatment Y/N'].isnull()]"
   ]
  },
  {
   "cell_type": "code",
   "execution_count": 18,
   "id": "0c8e994e-7e48-4ca6-8ec9-872848050456",
   "metadata": {},
   "outputs": [],
   "source": [
    "# drop columns\n",
    "columns_to_drop = ['Unnamed: 8', 'Fault Based', 'Mutual No Fault', 'Unilateral No Fault']\n",
    "df_mstr = df_mstr.drop(columns=columns_to_drop)"
   ]
  },
  {
   "cell_type": "code",
   "execution_count": 19,
   "id": "46c972c7-1d60-4238-95a2-7d5e43e7f674",
   "metadata": {},
   "outputs": [
    {
     "data": {
      "image/png": "[encoded data removed]",
      "text/plain": [
       "<Figure size 640x480 with 1 Axes>"
      ]
     },
     "metadata": {},
     "output_type": "display_data"
    },
    {
     "name": "stdout",
     "output_type": "stream",
     "text": [
      "Percentage of observations ever treated: 62.0%\n"
     ]
    }
   ],
   "source": [
    "# Plot treatment years represented in merged data\n",
    "\n",
    "df_mstr['Treatment Year'].hist(bins=50)\n",
    "plt.title('Treatment Years Represented in CoRes Data')\n",
    "plt.show()\n",
    "\n",
    "# size of treated vs. not treated, by year\n",
    "percent_treated = df_mstr['Treatment Year'].notnull().sum()/len(df_mstr)\n",
    "print(f\"Percentage of observations ever treated: {round(percent_treated, 2)*100}%\")"
   ]
  },
  {
   "cell_type": "code",
   "execution_count": 20,
   "id": "da4a8e1a-2ff8-427d-8c6d-6e140bef1213",
   "metadata": {},
   "outputs": [],
   "source": [
    "# create treatment cohorts\n",
    "\n",
    "def treatment_cohort(treatment_year):\n",
    "    \"\"\"Takes treatment year and assigns to a cohort\"\"\"\n",
    "    if pd.isna(treatment_year):\n",
    "        return np.nan\n",
    "    floor_decade = int((treatment_year)//10*10)\n",
    "    ceiling_decade = floor_decade + 9\n",
    "    treatment_cohort = f\"{floor_decade}-{ceiling_decade}\"\n",
    "    return(treatment_cohort)\n",
    "    "
   ]
  },
  {
   "cell_type": "code",
   "execution_count": 21,
   "id": "6b941fab-ca06-4770-8271-9aa80255cef3",
   "metadata": {},
   "outputs": [
    {
     "name": "stdout",
     "output_type": "stream",
     "text": [
      "Treatment Cohorts: ['1910-1919', '1940-1949', '1960-1969', '1970-1979', '1980-1989', '1990-1999', '2000-2009', '2010-2019', '2020-2029']\n"
     ]
    }
   ],
   "source": [
    "# create treatment cohorts using formula\n",
    "\n",
    "df_mstr['Treatment Cohort'] = df_mstr['Treatment Year'].apply(lambda x: treatment_cohort(x))\n",
    "\n",
    "print(f\"Treatment Cohorts: {sorted(df_mstr['Treatment Cohort'].dropna().unique())}\")"
   ]
  },
  {
   "cell_type": "code",
   "execution_count": 22,
   "id": "8b5adc0f-3a47-4b1a-9cce-821806cbf8ea",
   "metadata": {},
   "outputs": [
    {
     "name": "stdout",
     "output_type": "stream",
     "text": [
      "Viable Cohorts (n>30): ['1970-1979', '1980-1989', '1990-1999', '2000-2009', '2010-2019', '2020-2029']\n"
     ]
    }
   ],
   "source": [
    "# define viable cohorts as those having n>30\n",
    "\n",
    "viable_cohorts = df_mstr['Treatment Cohort'].value_counts().loc[lambda x: x >=30].index\n",
    "viable_cohorts = sorted(viable_cohorts)\n",
    "\n",
    "print(f\"Viable Cohorts (n>30): {viable_cohorts}\")"
   ]
  },
  {
   "cell_type": "code",
   "execution_count": 23,
   "id": "3d572afa-e31c-458f-87d7-fe1d4acb63c9",
   "metadata": {},
   "outputs": [],
   "source": [
    "# OnTreat column tracks which entities and years have received treatment\n",
    "\n",
    "df_mstr['OnTreat'] = (\n",
    "    (df_mstr['Year']>=df_mstr['Treatment Year']) \n",
    "    & df_mstr['Treatment'].eq(1)\n",
    ").astype(int)\n"
   ]
  },
  {
   "cell_type": "markdown",
   "id": "897079d4-93ab-418a-85e0-920399135a93",
   "metadata": {},
   "source": [
    "# Staggered DiD"
   ]
  },
  {
   "cell_type": "code",
   "execution_count": 24,
   "id": "3667b967-831b-4ffc-be6c-36d9fe42fc2c",
   "metadata": {},
   "outputs": [],
   "source": [
    "# create a copy of the master data \n",
    "\n",
    "df_did = df_mstr.copy()"
   ]
  },
  {
   "cell_type": "code",
   "execution_count": 25,
   "id": "e328012e-d829-4b1b-b0a5-1b2f76cdb4ec",
   "metadata": {},
   "outputs": [
    {
     "name": "stdout",
     "output_type": "stream",
     "text": [
      "1970-1979\n",
      "1980-1989\n",
      "1990-1999\n",
      "2000-2009\n",
      "2010-2019\n",
      "2020-2029\n"
     ]
    },
    {
     "name": "stderr",
     "output_type": "stream",
     "text": [
      "/Users/lilianburgler/anaconda3/lib/python3.10/site-packages/statsmodels/regression/linear_model.py:1854: RuntimeWarning: invalid value encountered in sqrt\n",
      "  return np.sqrt(np.diag(self.cov_params()))\n",
      "/Users/lilianburgler/anaconda3/lib/python3.10/site-packages/statsmodels/regression/linear_model.py:1854: RuntimeWarning: invalid value encountered in sqrt\n",
      "  return np.sqrt(np.diag(self.cov_params()))\n",
      "/Users/lilianburgler/anaconda3/lib/python3.10/site-packages/statsmodels/regression/linear_model.py:1854: RuntimeWarning: invalid value encountered in sqrt\n",
      "  return np.sqrt(np.diag(self.cov_params()))\n",
      "/Users/lilianburgler/anaconda3/lib/python3.10/site-packages/statsmodels/regression/linear_model.py:1854: RuntimeWarning: invalid value encountered in sqrt\n",
      "  return np.sqrt(np.diag(self.cov_params()))\n"
     ]
    }
   ],
   "source": [
    "# DiD\n",
    "\n",
    "# initiate dictionaries to store results\n",
    "results = {}\n",
    "warn_log = {}\n",
    "custom_summary = []\n",
    "\n",
    "Y = 'Gini_recon_hybrid'\n",
    "target = 'Treatment:OnTreat'\n",
    "\n",
    "for cohort in viable_cohorts:\n",
    "    print(cohort)\n",
    "    treated_mask = df_did['Treatment Cohort']==cohort #all cohorts by definition are treated\n",
    "    treated = df_did[treated_mask]\n",
    "\n",
    "    benchmark_year = treated['Treatment Year'].mode().iat[0] #treatment year per cohort\n",
    "    \n",
    "    # control groups:\n",
    "    # never treated & not-yet-treated (where years come before treatment)\n",
    "    never_treated_mask = df_did['Treatment']== 0\n",
    "    not_yet_treated_mask = (df_did['Treatment Year'].gt(benchmark_year) \n",
    "                            & df_did['Year'].lt(df_did['Treatment Year']))\n",
    "    control_mask = never_treated_mask | not_yet_treated_mask\n",
    "                            \n",
    "    subset = df_did.loc[treated_mask | control_mask].copy()\n",
    "    \n",
    "    # identify countries with fewer than 2 observations\n",
    "    singleton_countries = subset['Country'].value_counts().loc[lambda x: x<2]\n",
    "    \n",
    "    # drop singleton countries\n",
    "    subset = subset[~subset['Country'].isin(singleton_countries)].copy()\n",
    "    \n",
    "    # DiD formula\n",
    "    formula = f\"{Y} ~ Treatment:OnTreat + C(Year) + C(Country)\"\n",
    "    \n",
    "    result = smf.ols(formula=formula, data=subset).fit(\n",
    "        cov_type = 'cluster',\n",
    "        cov_kwds = {'groups': subset['Country']}\n",
    "    )\n",
    "    \n",
    "    # collect results in dictionary\n",
    "    results[cohort] = result\n",
    "    \n",
    "    # generate DiD stats\n",
    "    coef = result.params.get(target, np.nan)\n",
    "    se = result.bse.get(target, np.nan)\n",
    "    tval = result.tvalues.get(target, np.nan)\n",
    "    pval = result.pvalues.get(target, np.nan)\n",
    "    \n",
    "    # gather DiD stats\n",
    "    custom_summary.append({\n",
    "        \"cohort\" : cohort,\n",
    "        \"coef\": coef,\n",
    "        \"se\":se,\n",
    "        \"tval\": tval,\n",
    "        \"pval\": pval\n",
    "    }\n",
    "    )\n",
    "    \n",
    "    # collect warnings in warn_log\n",
    "    if pd.isna(se):\n",
    "        warn_log.setdefault(cohort, []).append(\"DiD SE is NaN\")\n",
    "    if se==0:\n",
    "        warn_log.setdefault(cohort, []).append(\"DiD SE is zero\")\n",
    "    if not np.isfinite(se):\n",
    "        warn_log.setdefault(cohort, []).append(\"DiD SE if infinite\")\n"
   ]
  },
  {
   "cell_type": "code",
   "execution_count": 26,
   "id": "bdca8017-e5b5-4793-a898-5169584e3c23",
   "metadata": {},
   "outputs": [],
   "source": [
    "# inspect custom summary\n",
    "custom_summary = pd.DataFrame(custom_summary)"
   ]
  },
  {
   "cell_type": "code",
   "execution_count": 27,
   "id": "b40c992a-ac2e-444e-9bbe-ebffa4a06351",
   "metadata": {},
   "outputs": [
    {
     "data": {
      "text/plain": [
       "{'2020-2029': ['DiD SE is zero']}"
      ]
     },
     "execution_count": 27,
     "metadata": {},
     "output_type": "execute_result"
    }
   ],
   "source": [
    "# inspect warnings for DiD term\n",
    "warn_log"
   ]
  },
  {
   "cell_type": "markdown",
   "id": "0793034d-7f15-4e60-aea0-6fcfbec7da04",
   "metadata": {},
   "source": [
    "# Panel OLS"
   ]
  },
  {
   "cell_type": "code",
   "execution_count": 28,
   "id": "afe2f472-c2e6-404f-a082-09d5a7475d48",
   "metadata": {},
   "outputs": [],
   "source": [
    "# create a copy\n",
    "df_panel = df_mstr.copy()\n",
    "\n",
    "# drop last cohort\n",
    "\n",
    "viable_cohorts = viable_cohorts[:-1]"
   ]
  },
  {
   "cell_type": "code",
   "execution_count": 29,
   "id": "c473a1ae-b13e-4cd2-89e1-bf0fc0a40c7f",
   "metadata": {},
   "outputs": [],
   "source": [
    "# set index as required by panel ols\n",
    "df_panel = df_panel.set_index(['Country', 'Year'])"
   ]
  },
  {
   "cell_type": "code",
   "execution_count": 30,
   "id": "a4f37189-c5bf-4a67-a216-4cbf507a2998",
   "metadata": {},
   "outputs": [
    {
     "data": {
      "text/plain": [
       "Int64Index([2008, 2017, 1991, 2001, 2020, 2000, 2001, 2005, 2010, 2011,\n",
       "            ...\n",
       "            2007, 2010, 2013, 2018, 1994, 1999, 2005, 2010, 2012, 2015],\n",
       "           dtype='int64', name='Year', length=629)"
      ]
     },
     "execution_count": 30,
     "metadata": {},
     "output_type": "execute_result"
    }
   ],
   "source": [
    "df_panel.index.get_level_values(1)"
   ]
  },
  {
   "cell_type": "code",
   "execution_count": 31,
   "id": "61fed0bd-b773-4029-b6b5-74370607a669",
   "metadata": {},
   "outputs": [
    {
     "name": "stdout",
     "output_type": "stream",
     "text": [
      "1970-1979\n",
      "1976.0\n",
      "1980-1989\n",
      "1983.0\n",
      "1990-1999\n",
      "1997.0\n",
      "2000-2009\n",
      "2008.0\n",
      "2010-2019\n",
      "2016.0\n"
     ]
    }
   ],
   "source": [
    "# try with panel ols\n",
    "\n",
    "panel_results = {}\n",
    "panel_summary = []\n",
    "\n",
    "for cohort in viable_cohorts:\n",
    "    print(cohort)\n",
    "    \n",
    "    benchmark_year = df_panel.loc[df_panel['Treatment Cohort']==cohort, 'Treatment Year'].mode().iat[0]\n",
    "    print(benchmark_year)\n",
    "    \n",
    "    treated_mask = df_panel['Treatment Cohort'] == cohort\n",
    "    \n",
    "    never_treated_mask = df_panel['Treatment'] == 0\n",
    "    not_yet_treated_mask = (\n",
    "        (df_panel['Treatment Year'] > benchmark_year) & \n",
    "        (df_panel.index.get_level_values('Year') < df_panel['Treatment Year'])\n",
    "    )\n",
    "    \n",
    "    control_mask = never_treated_mask | not_yet_treated_mask\n",
    "    \n",
    "    es_cols = ['OnTreat']\n",
    "    \n",
    "    subset = df_panel.loc[treated_mask | control_mask, es_cols]\n",
    "    \n",
    "    y = df_panel.loc[subset.index, 'Gini_recon_hybrid']\n",
    "    X = subset.copy()\n",
    "    \n",
    "    model = PanelOLS(y, X, entity_effects=True, time_effects=True)\n",
    "    result = model.fit(cov_type='clustered', cluster_entity=True, cluster_time=False)\n",
    "    \n",
    "    panel_results[cohort] = result\n",
    "    \n",
    "    # build custom summary\n",
    "    panel_summary.append(\n",
    "        {\n",
    "        'cohort':cohort,\n",
    "        'coefficient': result.params.iat[0],\n",
    "        'standard error': result.std_errors.iat[0],\n",
    "        'p_value': result.pvalues.iat[0],\n",
    "        't_value': result.tstats.iat[0]\n",
    "    }\n",
    "    )\n",
    "    "
   ]
  },
  {
   "cell_type": "code",
   "execution_count": 32,
   "id": "340ca6ee-2f44-4403-8954-d96ce6ea1b71",
   "metadata": {},
   "outputs": [],
   "source": [
    "panel_summary = pd.DataFrame(panel_summary)"
   ]
  },
  {
   "cell_type": "code",
   "execution_count": 33,
   "id": "ecafe28e-a087-4878-842b-9d0998db893c",
   "metadata": {},
   "outputs": [],
   "source": [
    "# sanity check\n",
    "# assure no untreated have a treatment year\n",
    "\n",
    "assert df_mstr[(df_mstr['Treatment']==0) & (df_mstr['Treatment Year'].notnull())].isnull().all().all(), \"Uh oh!\""
   ]
  },
  {
   "cell_type": "code",
   "execution_count": 34,
   "id": "0f2811c6-2e02-4a97-9d18-f77da1454f46",
   "metadata": {},
   "outputs": [],
   "source": [
    "# sanity check\n",
    "# conversely assure no treated lack a treatment year\n",
    "\n",
    "assert df_mstr[(df_mstr['Treatment']==1) & (df_mstr['Treatment Year'].isnull())].isnull().all().all(), \"Uh oh!\""
   ]
  },
  {
   "cell_type": "code",
   "execution_count": 35,
   "id": "fd06a8fb-bffd-46a7-88e2-7f49a28e5e4b",
   "metadata": {},
   "outputs": [
    {
     "name": "stdout",
     "output_type": "stream",
     "text": [
      "Percentage of countries represented in viable cohorts: 19.0%\n"
     ]
    }
   ],
   "source": [
    "# what percentage of countries are captured in the good cohorts?\n",
    "\n",
    "countries_in_viable_cohorts = (\n",
    "    df_mstr.loc[df_mstr['Treatment Cohort'].isin(['1970-1979', '1980-1989']), 'Country']\n",
    "    .nunique()/df_mstr['Country']\n",
    "    .nunique()\n",
    ")\n",
    "\n",
    "print(f\"Percentage of countries represented in viable cohorts: {round(countries_in_viable_cohorts,2)*100}%\")\n",
    "\n"
   ]
  },
  {
   "cell_type": "code",
   "execution_count": 36,
   "id": "fcc12ce8-3729-4ab8-b942-e0288ea2689c",
   "metadata": {},
   "outputs": [
    {
     "data": {
      "text/html": [
       "<div>\n",
       "<style scoped>\n",
       "    .dataframe tbody tr th:only-of-type {\n",
       "        vertical-align: middle;\n",
       "    }\n",
       "\n",
       "    .dataframe tbody tr th {\n",
       "        vertical-align: top;\n",
       "    }\n",
       "\n",
       "    .dataframe thead th {\n",
       "        text-align: right;\n",
       "    }\n",
       "</style>\n",
       "<table border=\"1\" class=\"dataframe\">\n",
       "  <thead>\n",
       "    <tr style=\"text-align: right;\">\n",
       "      <th></th>\n",
       "      <th>cohort</th>\n",
       "      <th>coef</th>\n",
       "      <th>se</th>\n",
       "      <th>tval</th>\n",
       "      <th>pval</th>\n",
       "      <th>cohort</th>\n",
       "      <th>coefficient</th>\n",
       "      <th>standard error</th>\n",
       "      <th>p_value</th>\n",
       "      <th>t_value</th>\n",
       "    </tr>\n",
       "  </thead>\n",
       "  <tbody>\n",
       "    <tr>\n",
       "      <th>0</th>\n",
       "      <td>1970-1979</td>\n",
       "      <td>2.888912</td>\n",
       "      <td>0.534564</td>\n",
       "      <td>5.404243</td>\n",
       "      <td>6.508261e-08</td>\n",
       "      <td>1970-1979</td>\n",
       "      <td>2.888912</td>\n",
       "      <td>0.532481</td>\n",
       "      <td>1.114767e-07</td>\n",
       "      <td>5.425375</td>\n",
       "    </tr>\n",
       "    <tr>\n",
       "      <th>1</th>\n",
       "      <td>1980-1989</td>\n",
       "      <td>1.213951</td>\n",
       "      <td>0.408675</td>\n",
       "      <td>2.970452</td>\n",
       "      <td>2.973615e-03</td>\n",
       "      <td>1980-1989</td>\n",
       "      <td>1.213951</td>\n",
       "      <td>0.407038</td>\n",
       "      <td>3.128366e-03</td>\n",
       "      <td>2.982402</td>\n",
       "    </tr>\n",
       "    <tr>\n",
       "      <th>2</th>\n",
       "      <td>1990-1999</td>\n",
       "      <td>1.823349</td>\n",
       "      <td>1.942345</td>\n",
       "      <td>0.938736</td>\n",
       "      <td>3.478663e-01</td>\n",
       "      <td>1990-1999</td>\n",
       "      <td>1.823349</td>\n",
       "      <td>1.934033</td>\n",
       "      <td>3.466634e-01</td>\n",
       "      <td>0.942771</td>\n",
       "    </tr>\n",
       "    <tr>\n",
       "      <th>3</th>\n",
       "      <td>2000-2009</td>\n",
       "      <td>0.563894</td>\n",
       "      <td>0.701119</td>\n",
       "      <td>0.804278</td>\n",
       "      <td>4.212365e-01</td>\n",
       "      <td>2000-2009</td>\n",
       "      <td>0.563894</td>\n",
       "      <td>0.697866</td>\n",
       "      <td>4.197974e-01</td>\n",
       "      <td>0.808026</td>\n",
       "    </tr>\n",
       "    <tr>\n",
       "      <th>4</th>\n",
       "      <td>2010-2019</td>\n",
       "      <td>-0.475481</td>\n",
       "      <td>0.539995</td>\n",
       "      <td>-0.880530</td>\n",
       "      <td>3.785723e-01</td>\n",
       "      <td>2010-2019</td>\n",
       "      <td>-0.475481</td>\n",
       "      <td>0.536857</td>\n",
       "      <td>3.768196e-01</td>\n",
       "      <td>-0.885676</td>\n",
       "    </tr>\n",
       "    <tr>\n",
       "      <th>5</th>\n",
       "      <td>2020-2029</td>\n",
       "      <td>0.000000</td>\n",
       "      <td>0.000000</td>\n",
       "      <td>NaN</td>\n",
       "      <td>NaN</td>\n",
       "      <td>NaN</td>\n",
       "      <td>NaN</td>\n",
       "      <td>NaN</td>\n",
       "      <td>NaN</td>\n",
       "      <td>NaN</td>\n",
       "    </tr>\n",
       "  </tbody>\n",
       "</table>\n",
       "</div>"
      ],
      "text/plain": [
       "      cohort      coef        se      tval          pval     cohort  \\\n",
       "0  1970-1979  2.888912  0.534564  5.404243  6.508261e-08  1970-1979   \n",
       "1  1980-1989  1.213951  0.408675  2.970452  2.973615e-03  1980-1989   \n",
       "2  1990-1999  1.823349  1.942345  0.938736  3.478663e-01  1990-1999   \n",
       "3  2000-2009  0.563894  0.701119  0.804278  4.212365e-01  2000-2009   \n",
       "4  2010-2019 -0.475481  0.539995 -0.880530  3.785723e-01  2010-2019   \n",
       "5  2020-2029  0.000000  0.000000       NaN           NaN        NaN   \n",
       "\n",
       "   coefficient  standard error       p_value   t_value  \n",
       "0     2.888912        0.532481  1.114767e-07  5.425375  \n",
       "1     1.213951        0.407038  3.128366e-03  2.982402  \n",
       "2     1.823349        1.934033  3.466634e-01  0.942771  \n",
       "3     0.563894        0.697866  4.197974e-01  0.808026  \n",
       "4    -0.475481        0.536857  3.768196e-01 -0.885676  \n",
       "5          NaN             NaN           NaN       NaN  "
      ]
     },
     "execution_count": 36,
     "metadata": {},
     "output_type": "execute_result"
    }
   ],
   "source": [
    "side_by_side = pd.DataFrame(pd.concat([custom_summary, panel_summary], axis=1))\n",
    "side_by_side"
   ]
  },
  {
   "cell_type": "markdown",
   "id": "1f4ff8fa-b577-4272-92ab-5dff99f6aeb2",
   "metadata": {},
   "source": [
    "## Summary\n",
    "\n",
    "Staggered DiD regressions per cohort revealed statistically significant effects for two cohorts: \n",
    "1) 1970-1979 - pval: 1.114767e-07 - **coef: 2.89** - 95% CI: [1.85, 3.93]\n",
    "2) 1980-1989 - pval: 3.128366e-03 - **coef: 1.21** - 95% CI: [.41, 2.01]\n",
    "\n",
    "Gini values have been previously inverted to improve interpretability. Normally high Gini values indicate high levels of inequality. Thus, a positive coefficient corresponds to a decrease in Gini values, and an increase in wealth equality. \n",
    "\n",
    "Unfortunately, staggered cohorts require assigning an 'Treatment Year' per cohort, which is the mode of the treatment years in that cohort. By definition, benchmarking to the mode year will capture most of the treatment years in the cohort. "
   ]
  },
  {
   "cell_type": "markdown",
   "id": "54e699eb-4874-4b27-abae-8c905dddc51d",
   "metadata": {},
   "source": [
    "# Event Study with -1 Baseline"
   ]
  },
  {
   "cell_type": "code",
   "execution_count": 35,
   "id": "d75c4cd2-a080-4357-af28-3d3a674f0008",
   "metadata": {},
   "outputs": [],
   "source": [
    "# copy mstr df and create relative year column\n",
    "\n",
    "df_es = df_mstr.copy()\n",
    "\n",
    "# create a \"relative year\" column for observations and bin the tails\n",
    "\n",
    "df_es['rel_year'] = (df_es['Year'] - df_es['Treatment Year']).clip(lower=-10, upper=10)\n"
   ]
  },
  {
   "cell_type": "code",
   "execution_count": 31,
   "id": "e8f704ea-9956-4460-9609-c821c69f23d0",
   "metadata": {},
   "outputs": [],
   "source": [
    "# assign -1 value to NaN rows in rel_year\n",
    "# since -1 is the reference, it will be excluded\n",
    "df_es['rel_year_es'] = df_es['rel_year'].replace(np.NaN, -1)"
   ]
  },
  {
   "cell_type": "code",
   "execution_count": 32,
   "id": "3b6abc9e-668f-42b2-a296-8c95090ef48e",
   "metadata": {},
   "outputs": [],
   "source": [
    "# regression\n",
    "\n",
    "Y = \"Gini_recon_hybrid\"\n",
    "\n",
    "# use rel_year_es instead of OnTreat\n",
    "formula = f\"{Y} ~ C(rel_year_es, CTR(reference=-1)) + C(Country) + C(Year)\"\n",
    "\n",
    "results = smf.ols(formula=formula, data=df_es).fit(\n",
    "    cov_type = 'cluster',\n",
    "    cov_kwds = {\"groups\":df_es['Country']}\n",
    ")\n"
   ]
  },
  {
   "cell_type": "code",
   "execution_count": 33,
   "id": "7093c840-a86d-4585-a76f-d87a9a24d7a5",
   "metadata": {},
   "outputs": [
    {
     "name": "stdout",
     "output_type": "stream",
     "text": [
      "dum_pre_tail + dum_pre9_6 + dum_m1 + dum_post0_2 + dum_post3_4 + dum_post5_6 + dum_post_tail + C(Country) + C(Year)\n"
     ]
    }
   ],
   "source": [
    "# try by binning and manual dummies\n",
    "\n",
    "def bin_k(k):\n",
    "    if pd.isna(k): return \"never\"\n",
    "    k = int(k)\n",
    "    if k <= -10: return \"pre_tail\"\n",
    "    if -9 <= k <= -6: return \"pre9_6\"\n",
    "    if -5 <= k <= -2: return \"pre_core\"\n",
    "    if k == -1: return \"m1\"\n",
    "    if 0 <= k <= 2: return \"post0_2\"\n",
    "    if 3 <= k <= 4: return \"post3_4\"\n",
    "    if 5 <= k <= 6: return \"post5_6\"\n",
    "    else: return \"post_tail\"\n",
    "\n",
    "\n",
    "# map bin names to relative year column\n",
    "df_es['bins'] = df_es['rel_year'].map(lambda x: bin_k(x))\n",
    "\n",
    "bins_ordered = list(df_es[['rel_year', 'bins']].sort_values(by='rel_year')['bins'].unique())\n",
    "\n",
    "for b in bins_ordered:\n",
    "    df_es[f\"dum_{b}\"] = ((df_es['Treatment'] == 1) & (df_es['bins']== b)).astype(int)\n",
    "    \n",
    "# set up regression\n",
    "Y = 'Gini_recon_hybrid'\n",
    "rhs_bins = [b for b in bins_ordered if b not in ['pre_core', 'never']]\n",
    "dummy_names = [f\"dum_{b}\" for b in rhs_bins]\n",
    "\n",
    "rhs = \" + \".join(dummy_names)+' + C(Country) + C(Year)'\n",
    "print(rhs)\n",
    "\n",
    "formula = f\"{Y} ~ {rhs}\"\n",
    "\n",
    "results = smf.ols(formula, data=df_es).fit(cov_type='cluster', cov_kwds={'groups':df_es['Country']})"
   ]
  },
  {
   "cell_type": "code",
   "execution_count": 34,
   "id": "5185b029-ee5d-4e63-8b41-7ef6bfcd09b6",
   "metadata": {},
   "outputs": [
    {
     "data": {
      "text/plain": [
       "dum_pre_tail     0.462665\n",
       "dum_pre9_6       0.796836\n",
       "dum_m1           0.854907\n",
       "dum_post0_2      0.512547\n",
       "dum_post3_4      0.756082\n",
       "dum_post5_6      0.442414\n",
       "dum_post_tail    0.155275\n",
       "dtype: float64"
      ]
     },
     "execution_count": 34,
     "metadata": {},
     "output_type": "execute_result"
    }
   ],
   "source": [
    "\n",
    "results.pvalues.filter(like='dum')"
   ]
  },
  {
   "cell_type": "code",
   "execution_count": 39,
   "id": "5ac8921e-351f-4207-881e-d6474db97641",
   "metadata": {},
   "outputs": [],
   "source": [
    "# try by binning with contrasts instead of manual dummies\n",
    "\n",
    "def bin_k(k):\n",
    "    if pd.isna(k): return \"pre_core\"\n",
    "    k = int(k)\n",
    "    if k <= -10: return \"pre_tail\"\n",
    "    if -9 <= k <= -6: return \"pre9_6\"\n",
    "    if -5 <= k <= -2: return \"pre_core\"\n",
    "    if k == -1: return \"m1\"\n",
    "    if 0 <= k <= 2: return \"post0_2\"\n",
    "    if 3 <= k <= 4: return \"post3_4\"\n",
    "    if 5 <= k <= 6: return \"post5_6\"\n",
    "    else: return \"post_tail\"\n",
    "\n",
    "\n",
    "# map bin names to relative year column\n",
    "df_es['rel_bin'] = df_es['rel_year'].map(lambda x: bin_k(x))\n",
    "\n",
    "\n",
    "# set up regression\n",
    "Y = 'Gini_recon_hybrid'\n",
    "\n",
    "formula = f\"{Y} ~ Treatment:C(rel_bin, CTR(reference='pre_core')) + C(Country) + C(Year)\"\n",
    "\n",
    "results_test = smf.ols(formula, data=df_es).fit(cov_type='cluster', cov_kwds={'groups':df_es['Country']})"
   ]
  },
  {
   "cell_type": "code",
   "execution_count": 40,
   "id": "64e032e1-6cce-48d6-ad77-a6b16e15bdd2",
   "metadata": {},
   "outputs": [
    {
     "data": {
      "text/plain": [
       "Treatment:C(rel_bin, CTR(reference='pre_core'))[m1]                NaN\n",
       "Treatment:C(rel_bin, CTR(reference='pre_core'))[post0_2]      0.999999\n",
       "Treatment:C(rel_bin, CTR(reference='pre_core'))[post3_4]      0.999998\n",
       "Treatment:C(rel_bin, CTR(reference='pre_core'))[post5_6]      0.999998\n",
       "Treatment:C(rel_bin, CTR(reference='pre_core'))[post_tail]    0.999999\n",
       "Treatment:C(rel_bin, CTR(reference='pre_core'))[pre9_6]            NaN\n",
       "Treatment:C(rel_bin, CTR(reference='pre_core'))[pre_core]          NaN\n",
       "Treatment:C(rel_bin, CTR(reference='pre_core'))[pre_tail]     0.999986\n",
       "dtype: float64"
      ]
     },
     "execution_count": 40,
     "metadata": {},
     "output_type": "execute_result"
    }
   ],
   "source": [
    "results_test.pvalues.filter(like='rel_bin')"
   ]
  },
  {
   "cell_type": "code",
   "execution_count": 93,
   "id": "90610491-12bc-4914-b809-01fa0f4b5d47",
   "metadata": {},
   "outputs": [
    {
     "data": {
      "image/png": "[encoded data removed]",
      "text/plain": [
       "<Figure size 640x480 with 1 Axes>"
      ]
     },
     "metadata": {},
     "output_type": "display_data"
    }
   ],
   "source": [
    "# event study plot\n",
    "\n",
    "coefs = results.params.filter(like='rel_year_es')\n",
    "ses = results.bse.filter(like='rel_year_es')\n",
    "\n",
    "coefs_names = [int(float(s.split(\"T.\")[1].rstrip(']'))) for s in coefs.index]\n",
    "\n",
    "event_df = pd.DataFrame({\n",
    "    'Relative Time': coefs_names,\n",
    "    'Coefficient':coefs.values,\n",
    "    'Standard Error':ses.values\n",
    "})\n",
    "\n",
    "event_df = event_df.sort_values(by='Relative Time', ascending=True)\n",
    "\n",
    "event_df\n",
    "\n",
    "# # plot the results\n",
    "\n",
    "fig, ax = plt.subplots()\n",
    "plt.axhline(0, linestyle='--')\n",
    "plt.axvline(0, linestyle=':')\n",
    "\n",
    "plt.errorbar(\n",
    "    x = event_df['Relative Time'], y = event_df['Coefficient'], yerr=1.96*event_df['Standard Error'],\n",
    "    fmt='o', capsize=3\n",
    ")\n",
    "plt.xlabel('Years Relative to Treatment')\n",
    "plt.ylabel('Effect')\n",
    "plt.title(\"Event Study\")\n",
    "plt.xticks(rotation=45)\n",
    "plt.tight_layout()\n",
    "plt.show()"
   ]
  },
  {
   "cell_type": "code",
   "execution_count": 98,
   "id": "99575447-1052-4b0c-a35e-b75d51c8a466",
   "metadata": {},
   "outputs": [
    {
     "data": {
      "text/plain": [
       "rel_year\n",
       "-10.0     83\n",
       "-9.0       5\n",
       "-8.0       9\n",
       "-7.0       2\n",
       "-6.0       7\n",
       "-5.0       7\n",
       "-4.0       3\n",
       "-3.0       5\n",
       "-2.0       8\n",
       "-1.0      10\n",
       " 0.0       4\n",
       " 1.0       7\n",
       " 2.0       5\n",
       " 3.0       3\n",
       " 4.0       7\n",
       " 5.0       8\n",
       " 6.0       5\n",
       " 7.0       5\n",
       " 8.0       5\n",
       " 9.0       8\n",
       " 10.0    197\n",
       "Name: Treatment, dtype: int64"
      ]
     },
     "execution_count": 98,
     "metadata": {},
     "output_type": "execute_result"
    }
   ],
   "source": [
    "df_es.groupby('rel_year')['Treatment'].sum()"
   ]
  },
  {
   "cell_type": "code",
   "execution_count": 99,
   "id": "2747d2b5-fec0-4b57-bf7a-3210882fc0bf",
   "metadata": {},
   "outputs": [
    {
     "data": {
      "text/plain": [
       "629.0"
      ]
     },
     "execution_count": 99,
     "metadata": {},
     "output_type": "execute_result"
    }
   ],
   "source": [
    "results.nobs"
   ]
  },
  {
   "cell_type": "markdown",
   "id": "5549802c-91ab-4e7d-a654-e7b12a72737b",
   "metadata": {},
   "source": [
    "# Event Study with Coarsened Baseline"
   ]
  },
  {
   "cell_type": "code",
   "execution_count": null,
   "id": "2dea3957-c438-49d0-baad-e4adcb3393b9",
   "metadata": {},
   "outputs": [],
   "source": []
  },
  {
   "cell_type": "code",
   "execution_count": null,
   "id": "d1fb19f2-c8a8-45dd-932b-32cdfa66c305",
   "metadata": {},
   "outputs": [],
   "source": []
  }
 ],
 "metadata": {
  "kernelspec": {
   "display_name": "Python 3 (ipykernel)",
   "language": "python",
   "name": "python3"
  },
  "language_info": {
   "codemirror_mode": {
    "name": "ipython",
    "version": 3
   },
   "file_extension": ".py",
   "mimetype": "text/x-python",
   "name": "python",
   "nbconvert_exporter": "python",
   "pygments_lexer": "ipython3",
   "version": "3.10.9"
  }
 },
 "nbformat": 4,
 "nbformat_minor": 5
}

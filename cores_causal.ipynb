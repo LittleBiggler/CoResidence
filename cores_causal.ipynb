{
 "cells": [
  {
   "cell_type": "markdown",
   "id": "6a0a082c-b052-42be-a0a4-3a73d0d3389f",
   "metadata": {},
   "source": [
    "# Imports"
   ]
  },
  {
   "cell_type": "code",
   "execution_count": 1,
   "id": "eb87136e-d404-4575-8082-d6120d8157b0",
   "metadata": {},
   "outputs": [],
   "source": [
    "import pandas as pd\n",
    "import numpy as np\n",
    "import matplotlib.pyplot as plt\n",
    "import seaborn as sns\n",
    "\n",
    "from sklearn.linear_model import LinearRegression\n",
    "\n",
    "# formula api vs. array-based\n",
    "import statsmodels.formula.api as smf\n",
    "\n"
   ]
  },
  {
   "cell_type": "markdown",
   "id": "c367f954-51e1-400d-8ae0-dd3d87e969d0",
   "metadata": {},
   "source": [
    "# Project Summary  \n",
    "\n",
    "This project investigates where there is a causal relationship between the liberalization of divorce laws and wealth inequality as measured by the Gini index.\n",
    "\n",
    "We conduct a staggered difference in difference analysis on observational data, with two way fixed effects (twfe) treatment. Since our data is observational, we consider the \"treatment\" event to be the passage of divorce laws. \n",
    "\n",
    "Analysis is conducted both with frequentist (t-test in statsmodels) and Bayesian approaches. The Bayes Factor gives us a principled way to assess causality, without requiring normality assumptions under null hypothesis, which ttest analysis requires. \n",
    "\n",
    "We have no reason to believe that Gini index would be normally distributed even under a null hypothesis, and some reasons to believe that it would be skewed. Thus, a Bayes Factor analysis may be more revealing.\n",
    "\n",
    "Assigning a treatment group was more complicated than it seems. There are gradations of divorce:\n",
    "- Illegal\n",
    "- Legal but requiring proof of fault, such as infidelity, abuse, etc. \"Irreconcilable\" not allowed as reason.\n",
    "- No Fault Lite: Allowing for \"irretrievable breakdown\" or \"irreconcilable differences\" as cited reason, rather than blame, but requiring proof of this status, and/or trial separation periods of varying length\n",
    "- No Fault Mutual: Not requiring proof of status, but requiring mutual agreement for simplified process.\n",
    "- No Fault Unilateral: All that is required is for one party to the marriage to say that it has broken down.\n",
    "\n",
    "For the purposes of this study, we separate the various divorce categories into two main groups:\n",
    "1) Group I: \"irreconcilable differences\" or \"irretrievable breakdown\" not recognized as grounds for divorce, or the process is fundamentally unfair ('favors men')\n",
    "2) Group II: No fault is required, even if demonstrating that 'irreconcilable differences' or 'irretrievable breakdown' has occured\n"
   ]
  },
  {
   "cell_type": "markdown",
   "id": "c9b4334d-7ac5-49d7-a404-b74947094e46",
   "metadata": {},
   "source": [
    "# Datasets and Dependencies\n",
    "\n",
    "This causal analysis is complimentary to a parallel project, \"Coresidence Analysis\", which can be found in the same repository. For clarity, we refer to the previous predictive analysis as \"CoResidence Analysis\", versus \"CoRes Causal\" for the current project.\n",
    "\n",
    "**Note that Gini values have been inverted to improve interpretability**\n",
    "\n",
    "We heavily imputed CoResidence data to address missing values. In CoResidence Analysis, we pushed the limits of imputation to enable forecasting, which typically requires a balanced panel dataset.\n",
    "\n",
    "In CoRes Causal, no significant amount of data will be imputed. Country weighting will be applied to compensate for countries with many more years of data than others. In the previous analysis, we addressed data imbalance through radical imputation. Not here.In CoRes Causal, no significant amount of data will be imputed. Country weighting will be applied to compensate for countries with many more years of data than others. In the previous analysis, we addressed data imbalance through radical imputation. Not here.\n",
    "\n",
    "CoResidence involved \"central log ratio\" transformation of multiple groups of simplex columns. \n",
    "\n",
    "We kept both transformed and un-transformed columns.\n"
   ]
  },
  {
   "cell_type": "markdown",
   "id": "f262e947-0bf5-4fc5-92d2-ffe587806e67",
   "metadata": {},
   "source": [
    "Citation for Cross Reference\n",
    "\n",
    "Countries Where Divorce Is Illegal 2025. World Population Review. Retrieved June 19, 2025, from https://worldpopulationreview.com/country-rankings/countries-where-divorce-is-illegal\n",
    "\n",
    "Cited sources of citation\n",
    "https://en.wikipedia.org/wiki/Divorce_law_by_country\n",
    "https://www.nytimes.com/2023/11/04/world/asia/philippines-divorce-illegal-legislation.html\n",
    "https://www.respicio.ph/features/guide-to-annulment-in-the-philippines-understanding-the-process-and-grounds-for-marriage-nullification\n"
   ]
  },
  {
   "cell_type": "markdown",
   "id": "5d330f3f-3835-49c8-80c3-a5a7ae478a08",
   "metadata": {},
   "source": [
    "# CoResidence Data\n",
    "\n",
    "CoResidence with all merges and imputed targets\n"
   ]
  },
  {
   "cell_type": "code",
   "execution_count": 2,
   "id": "4d796bf8-8acd-4e38-b784-1ab27e120f76",
   "metadata": {},
   "outputs": [
    {
     "data": {
      "text/plain": [
       "(7808, 159)"
      ]
     },
     "execution_count": 2,
     "metadata": {},
     "output_type": "execute_result"
    }
   ],
   "source": [
    "# read in data\n",
    "\n",
    "df_raw = pd.read_csv('./artifact/cores_full_merge.csv')\n",
    "df_raw.shape"
   ]
  },
  {
   "cell_type": "code",
   "execution_count": 3,
   "id": "439e895f-47e5-471d-85fa-9bd368c92781",
   "metadata": {},
   "outputs": [],
   "source": [
    "df = df_raw.copy()"
   ]
  },
  {
   "cell_type": "code",
   "execution_count": 4,
   "id": "f532be99-7fff-4a7c-8c5c-84aa7d81bfd0",
   "metadata": {},
   "outputs": [],
   "source": [
    "# Columns with nulls in \n",
    "h_cols = df.columns[df.columns.str.startswith(('H', 'D', 'P'))]\n",
    "\n",
    "df = df.dropna(subset=h_cols)"
   ]
  },
  {
   "cell_type": "code",
   "execution_count": 5,
   "id": "9ae671d2-741a-41cd-82f9-8da32da267a5",
   "metadata": {},
   "outputs": [
    {
     "data": {
      "text/plain": [
       "(629, 159)"
      ]
     },
     "execution_count": 5,
     "metadata": {},
     "output_type": "execute_result"
    }
   ],
   "source": [
    "df.shape"
   ]
  },
  {
   "cell_type": "markdown",
   "id": "28ff9bc3-783f-495f-a714-f466fb71ea49",
   "metadata": {},
   "source": [
    "# Divorce Data"
   ]
  },
  {
   "cell_type": "code",
   "execution_count": 6,
   "id": "b9b12a73-fc16-4673-a89d-bcf74a49b68f",
   "metadata": {},
   "outputs": [
    {
     "data": {
      "text/html": [
       "<div>\n",
       "<style scoped>\n",
       "    .dataframe tbody tr th:only-of-type {\n",
       "        vertical-align: middle;\n",
       "    }\n",
       "\n",
       "    .dataframe tbody tr th {\n",
       "        vertical-align: top;\n",
       "    }\n",
       "\n",
       "    .dataframe thead th {\n",
       "        text-align: right;\n",
       "    }\n",
       "</style>\n",
       "<table border=\"1\" class=\"dataframe\">\n",
       "  <thead>\n",
       "    <tr style=\"text-align: right;\">\n",
       "      <th></th>\n",
       "      <th>Country</th>\n",
       "      <th>Blame Based</th>\n",
       "      <th>Fault Comment</th>\n",
       "      <th>Irreconcilable Differences</th>\n",
       "      <th>No Fault Comment</th>\n",
       "      <th>Treatment Y/N</th>\n",
       "      <th>Treatment Year</th>\n",
       "      <th>Unnamed: 8</th>\n",
       "      <th>Fault Based</th>\n",
       "      <th>Mutual No Fault</th>\n",
       "      <th>Unilateral No Fault</th>\n",
       "    </tr>\n",
       "  </thead>\n",
       "  <tbody>\n",
       "    <tr>\n",
       "      <th>0</th>\n",
       "      <td>Afghanistan</td>\n",
       "      <td>1977.0</td>\n",
       "      <td>Fault required</td>\n",
       "      <td>NaN</td>\n",
       "      <td>NaN</td>\n",
       "      <td>No</td>\n",
       "      <td>NaN</td>\n",
       "      <td>NaN</td>\n",
       "      <td>NaN</td>\n",
       "      <td>NaN</td>\n",
       "      <td>NaN</td>\n",
       "    </tr>\n",
       "    <tr>\n",
       "      <th>1</th>\n",
       "      <td>Albania</td>\n",
       "      <td>2003.0</td>\n",
       "      <td>Fault required</td>\n",
       "      <td>2013.0</td>\n",
       "      <td>Favors men</td>\n",
       "      <td>No</td>\n",
       "      <td>NaN</td>\n",
       "      <td>NaN</td>\n",
       "      <td>NaN</td>\n",
       "      <td>NaN</td>\n",
       "      <td>NaN</td>\n",
       "    </tr>\n",
       "    <tr>\n",
       "      <th>2</th>\n",
       "      <td>Algeria</td>\n",
       "      <td>1984.0</td>\n",
       "      <td>Fault required</td>\n",
       "      <td>2005.0</td>\n",
       "      <td>Favors men</td>\n",
       "      <td>No</td>\n",
       "      <td>NaN</td>\n",
       "      <td>NaN</td>\n",
       "      <td>NaN</td>\n",
       "      <td>NaN</td>\n",
       "      <td>NaN</td>\n",
       "    </tr>\n",
       "    <tr>\n",
       "      <th>3</th>\n",
       "      <td>Angola</td>\n",
       "      <td>NaN</td>\n",
       "      <td>NaN</td>\n",
       "      <td>1975.0</td>\n",
       "      <td>No fault</td>\n",
       "      <td>Yes</td>\n",
       "      <td>1976.0</td>\n",
       "      <td>NaN</td>\n",
       "      <td>Yes</td>\n",
       "      <td>Yes</td>\n",
       "      <td>One year separation</td>\n",
       "    </tr>\n",
       "    <tr>\n",
       "      <th>4</th>\n",
       "      <td>Argentina</td>\n",
       "      <td>1987.0</td>\n",
       "      <td>Fault required</td>\n",
       "      <td>2015.0</td>\n",
       "      <td>No fault</td>\n",
       "      <td>Yes</td>\n",
       "      <td>2016.0</td>\n",
       "      <td>NaN</td>\n",
       "      <td>No</td>\n",
       "      <td>Yes</td>\n",
       "      <td>Yes</td>\n",
       "    </tr>\n",
       "  </tbody>\n",
       "</table>\n",
       "</div>"
      ],
      "text/plain": [
       "       Country  Blame Based   Fault Comment  Irreconcilable Differences  \\\n",
       "0  Afghanistan       1977.0  Fault required                         NaN   \n",
       "1      Albania       2003.0  Fault required                      2013.0   \n",
       "2      Algeria       1984.0  Fault required                      2005.0   \n",
       "3       Angola          NaN             NaN                      1975.0   \n",
       "4    Argentina       1987.0  Fault required                      2015.0   \n",
       "\n",
       "  No Fault Comment Treatment Y/N  Treatment Year  Unnamed: 8 Fault Based  \\\n",
       "0              NaN            No             NaN         NaN         NaN   \n",
       "1       Favors men            No             NaN         NaN         NaN   \n",
       "2       Favors men            No             NaN         NaN         NaN   \n",
       "3         No fault           Yes          1976.0         NaN         Yes   \n",
       "4         No fault           Yes          2016.0         NaN          No   \n",
       "\n",
       "  Mutual No Fault  Unilateral No Fault  \n",
       "0             NaN                  NaN  \n",
       "1             NaN                  NaN  \n",
       "2             NaN                  NaN  \n",
       "3             Yes  One year separation  \n",
       "4             Yes                  Yes  "
      ]
     },
     "execution_count": 6,
     "metadata": {},
     "output_type": "execute_result"
    }
   ],
   "source": [
    "divorce_data = pd.read_csv('./divorce_table_final.csv', index_col=0)\n",
    "divorce_data.head()"
   ]
  },
  {
   "cell_type": "code",
   "execution_count": 7,
   "id": "c30de511-4be7-46fd-bc3a-e3380fd424d8",
   "metadata": {},
   "outputs": [],
   "source": [
    "# convert \"Treatment Y/N\" to integer\n",
    "\n",
    "divorce_data['Treatment'] = divorce_data['Treatment Y/N'].map({'Yes':1, 'No':0})"
   ]
  },
  {
   "cell_type": "code",
   "execution_count": 8,
   "id": "12c2d134-8666-4f12-95cb-a74eba8458aa",
   "metadata": {},
   "outputs": [
    {
     "data": {
      "text/html": [
       "<div>\n",
       "<style scoped>\n",
       "    .dataframe tbody tr th:only-of-type {\n",
       "        vertical-align: middle;\n",
       "    }\n",
       "\n",
       "    .dataframe tbody tr th {\n",
       "        vertical-align: top;\n",
       "    }\n",
       "\n",
       "    .dataframe thead th {\n",
       "        text-align: right;\n",
       "    }\n",
       "</style>\n",
       "<table border=\"1\" class=\"dataframe\">\n",
       "  <thead>\n",
       "    <tr style=\"text-align: right;\">\n",
       "      <th></th>\n",
       "      <th>Treatment Y/N</th>\n",
       "      <th>Treatment</th>\n",
       "    </tr>\n",
       "  </thead>\n",
       "  <tbody>\n",
       "    <tr>\n",
       "      <th>0</th>\n",
       "      <td>No</td>\n",
       "      <td>0</td>\n",
       "    </tr>\n",
       "    <tr>\n",
       "      <th>1</th>\n",
       "      <td>No</td>\n",
       "      <td>0</td>\n",
       "    </tr>\n",
       "    <tr>\n",
       "      <th>2</th>\n",
       "      <td>No</td>\n",
       "      <td>0</td>\n",
       "    </tr>\n",
       "    <tr>\n",
       "      <th>3</th>\n",
       "      <td>Yes</td>\n",
       "      <td>1</td>\n",
       "    </tr>\n",
       "    <tr>\n",
       "      <th>4</th>\n",
       "      <td>Yes</td>\n",
       "      <td>1</td>\n",
       "    </tr>\n",
       "    <tr>\n",
       "      <th>...</th>\n",
       "      <td>...</td>\n",
       "      <td>...</td>\n",
       "    </tr>\n",
       "    <tr>\n",
       "      <th>152</th>\n",
       "      <td>No</td>\n",
       "      <td>0</td>\n",
       "    </tr>\n",
       "    <tr>\n",
       "      <th>153</th>\n",
       "      <td>Yes</td>\n",
       "      <td>1</td>\n",
       "    </tr>\n",
       "    <tr>\n",
       "      <th>154</th>\n",
       "      <td>No</td>\n",
       "      <td>0</td>\n",
       "    </tr>\n",
       "    <tr>\n",
       "      <th>155</th>\n",
       "      <td>Yes</td>\n",
       "      <td>1</td>\n",
       "    </tr>\n",
       "    <tr>\n",
       "      <th>156</th>\n",
       "      <td>Yes</td>\n",
       "      <td>1</td>\n",
       "    </tr>\n",
       "  </tbody>\n",
       "</table>\n",
       "<p>157 rows × 2 columns</p>\n",
       "</div>"
      ],
      "text/plain": [
       "    Treatment Y/N  Treatment\n",
       "0              No          0\n",
       "1              No          0\n",
       "2              No          0\n",
       "3             Yes          1\n",
       "4             Yes          1\n",
       "..            ...        ...\n",
       "152            No          0\n",
       "153           Yes          1\n",
       "154            No          0\n",
       "155           Yes          1\n",
       "156           Yes          1\n",
       "\n",
       "[157 rows x 2 columns]"
      ]
     },
     "execution_count": 8,
     "metadata": {},
     "output_type": "execute_result"
    }
   ],
   "source": [
    "divorce_data[['Treatment Y/N', 'Treatment']]"
   ]
  },
  {
   "cell_type": "code",
   "execution_count": 9,
   "id": "d3da2075-8950-42e2-bc63-45b7949a4b4e",
   "metadata": {},
   "outputs": [
    {
     "name": "stdout",
     "output_type": "stream",
     "text": [
      "All good and tidy.\n"
     ]
    }
   ],
   "source": [
    "# check if any years are missing from treatment\n",
    "\n",
    "mask = (divorce_data['Treatment'].eq(1) & divorce_data['Treatment Year'].isnull())\n",
    "    \n",
    "if mask.any():  \n",
    "    print(f\"Uh-oh, year missing for {divorce_data.loc[mask, 'Country'].to_list()}\")\n",
    "else:\n",
    "    print('All good and tidy.')"
   ]
  },
  {
   "cell_type": "code",
   "execution_count": 10,
   "id": "db58e118-7fab-45ac-a303-4eeb4ebda581",
   "metadata": {},
   "outputs": [
    {
     "name": "stdout",
     "output_type": "stream",
     "text": [
      "All good and tidy.\n"
     ]
    }
   ],
   "source": [
    "# check if any untreated years have a date in the \"Treatment Year\" column by accident\n",
    "\n",
    "mask = (divorce_data['Treatment Y/N']=='No') & (divorce_data['Treatment Year'].notnull())\n",
    "\n",
    "if mask.any():\n",
    "    print(f\"Uh-oh, year missing for {divorce_data.loc[mask, 'Country'].to_list()}\")\n",
    "else:\n",
    "    print('All good and tidy.')"
   ]
  },
  {
   "cell_type": "code",
   "execution_count": 11,
   "id": "e5e02a3c-d3af-4e7f-8d31-38068162fcde",
   "metadata": {},
   "outputs": [
    {
     "data": {
      "image/png": "[encoded data removed]",
      "text/plain": [
       "<Figure size 640x480 with 1 Axes>"
      ]
     },
     "metadata": {},
     "output_type": "display_data"
    }
   ],
   "source": [
    "# visualize divorce year\n",
    "\n",
    "divorce_data['Treatment Year'].hist(bins=50)\n",
    "plt.title('Treatment Year Distribution - Divorce Data')\n",
    "plt.show()"
   ]
  },
  {
   "cell_type": "code",
   "execution_count": 12,
   "id": "0379959c-3273-4b11-8d21-595ff3b4e8c3",
   "metadata": {},
   "outputs": [
    {
     "name": "stdout",
     "output_type": "stream",
     "text": [
      "0.5159235668789809\n",
      "0.5159235668789809\n"
     ]
    }
   ],
   "source": [
    "# examine distribution of cohorts in divorce data\n",
    "\n",
    "print(divorce_data['Treatment Year'].notnull().sum()/len(divorce_data))\n",
    "print(divorce_data['Treatment Year'].notnull().sum()/(divorce_data['Treatment Year'].notnull().sum()+divorce_data['Treatment Year'].isnull().sum()))\n",
    "\n"
   ]
  },
  {
   "cell_type": "markdown",
   "id": "8d44fc3c-47e9-4970-85bb-28536507b467",
   "metadata": {},
   "source": [
    "# Merge: CoResidence & Divorce Data"
   ]
  },
  {
   "cell_type": "code",
   "execution_count": 13,
   "id": "a54bf5ba-814b-4b24-b74a-2ee3b4b1e50a",
   "metadata": {},
   "outputs": [
    {
     "data": {
      "text/plain": [
       "['Congo, Dem. Rep.',\n",
       " 'Czechia',\n",
       " 'Egypt, Arab Rep.',\n",
       " 'Gambia, The',\n",
       " 'Iran, Islamic Rep.',\n",
       " 'Korea, Rep.',\n",
       " 'Lao PDR',\n",
       " 'North Macedonia',\n",
       " 'West Bank and Gaza',\n",
       " 'Russian Federation',\n",
       " 'Slovak Republic',\n",
       " 'Venezuela, RB',\n",
       " 'Viet Nam',\n",
       " 'Yemen, Rep.']"
      ]
     },
     "execution_count": 13,
     "metadata": {},
     "output_type": "execute_result"
    }
   ],
   "source": [
    "# anticipate merge failures\n",
    "\n",
    "[country for country in df['Country Name'].unique() if country not in divorce_data['Country'].unique()]"
   ]
  },
  {
   "cell_type": "code",
   "execution_count": 14,
   "id": "282d5136-3540-426f-aef0-cf606fd40dd9",
   "metadata": {},
   "outputs": [],
   "source": [
    "# name mapper for improved merge:\n",
    "\n",
    "country_name_mapper = {\n",
    "    'Congo, Dem. Rep.':'Congo',\n",
    " 'Czechia':'Czech Republic',\n",
    " 'Egypt, Arab Rep.':'Egypt',\n",
    " 'Gambia, The':'Gambia',\n",
    " 'Iran, Islamic Rep.':'Iran',\n",
    " 'Korea, Rep.':'South Korea',\n",
    " 'Lao PDR':'Laos',\n",
    " 'North Macedonia':'Macedonia',\n",
    " 'West Bank and Gaza':'Palestine',\n",
    " 'Russian Federation':'Russia',\n",
    " 'Slovak Republic':'Slovakia',\n",
    " 'Venezuela, RB':'Venezuela',\n",
    " 'Viet Nam':'Vietnam',\n",
    " 'Yemen, Rep.':'Yemen'\n",
    "}\n",
    "\n",
    "# reverse\n",
    "country_name_mapper = {\n",
    "    value:key for key, value in country_name_mapper.items()\n",
    "}\n"
   ]
  },
  {
   "cell_type": "code",
   "execution_count": 15,
   "id": "247100e0-26fc-4327-9101-720d3970121b",
   "metadata": {},
   "outputs": [],
   "source": [
    "# update names in right table to prepare for successful merge\n",
    "\n",
    "divorce_data['Country'] = divorce_data['Country'].replace(country_name_mapper)\n"
   ]
  },
  {
   "cell_type": "code",
   "execution_count": 16,
   "id": "08fc042a-0c64-4934-a4bb-482434b14242",
   "metadata": {},
   "outputs": [],
   "source": [
    "# merge with divorce data\n",
    "\n",
    "df_mstr = df.merge(divorce_data, left_on='Country Name', right_on='Country', how='left')"
   ]
  },
  {
   "cell_type": "code",
   "execution_count": 17,
   "id": "ad2486c2-9778-45a4-868d-8aa522c65b77",
   "metadata": {},
   "outputs": [
    {
     "data": {
      "text/html": [
       "<div>\n",
       "<style scoped>\n",
       "    .dataframe tbody tr th:only-of-type {\n",
       "        vertical-align: middle;\n",
       "    }\n",
       "\n",
       "    .dataframe tbody tr th {\n",
       "        vertical-align: top;\n",
       "    }\n",
       "\n",
       "    .dataframe thead th {\n",
       "        text-align: right;\n",
       "    }\n",
       "</style>\n",
       "<table border=\"1\" class=\"dataframe\">\n",
       "  <thead>\n",
       "    <tr style=\"text-align: right;\">\n",
       "      <th></th>\n",
       "      <th>C1</th>\n",
       "      <th>T1</th>\n",
       "      <th>C2</th>\n",
       "      <th>C3</th>\n",
       "      <th>C4</th>\n",
       "      <th>HS01</th>\n",
       "      <th>HS02</th>\n",
       "      <th>HS03</th>\n",
       "      <th>HS04</th>\n",
       "      <th>HS05</th>\n",
       "      <th>...</th>\n",
       "      <th>Fault Comment</th>\n",
       "      <th>Irreconcilable Differences</th>\n",
       "      <th>No Fault Comment</th>\n",
       "      <th>Treatment Y/N</th>\n",
       "      <th>Treatment Year</th>\n",
       "      <th>Unnamed: 8</th>\n",
       "      <th>Fault Based</th>\n",
       "      <th>Mutual No Fault</th>\n",
       "      <th>Unilateral No Fault</th>\n",
       "      <th>Treatment</th>\n",
       "    </tr>\n",
       "  </thead>\n",
       "  <tbody>\n",
       "  </tbody>\n",
       "</table>\n",
       "<p>0 rows × 171 columns</p>\n",
       "</div>"
      ],
      "text/plain": [
       "Empty DataFrame\n",
       "Columns: [C1, T1, C2, C3, C4, HS01, HS02, HS03, HS04, HS05, HS06, HS07, HS08, HS09, HS10, HS12, HS13, HS14, HS15, HS16, HS17, HS18, HS19, HS20, HS21, HS22, HS23, HS24, HS25, HS26, HS27, HS28, HS29, HS30, HR02, HR03, HR04, HR05, HR08, HR09, HR10, HR11, HR14, HR15, HR16, HR17, HR20, HR21, HR22, HR23, HR26, HR27, HR28, HR29, HT01, HT02, HT03, HT04, HT05, HT06, HT07, HT08, HT11, HT12, HT13, HT14, HT15, HT16, HT17, HT18, HT20, HT21, HT22, HT23, HT24, HT27, HT28, HT29, HT30, HT31, HH01, HH03, HH04, HH05, HH06, HH07, HH08, HH09, HH10, HH11, HH12, HH14, HH15, HH16, HH17, HH18, HH19, HH20, HH21, HH22, ...]\n",
       "Index: []\n",
       "\n",
       "[0 rows x 171 columns]"
      ]
     },
     "execution_count": 17,
     "metadata": {},
     "output_type": "execute_result"
    }
   ],
   "source": [
    "df_mstr[df_mstr['Treatment Y/N'].isnull()]"
   ]
  },
  {
   "cell_type": "code",
   "execution_count": 18,
   "id": "0c8e994e-7e48-4ca6-8ec9-872848050456",
   "metadata": {},
   "outputs": [],
   "source": [
    "# drop columns\n",
    "columns_to_drop = ['Unnamed: 8', 'Fault Based', 'Mutual No Fault', 'Unilateral No Fault']\n",
    "df_mstr = df_mstr.drop(columns=columns_to_drop)"
   ]
  },
  {
   "cell_type": "code",
   "execution_count": 19,
   "id": "46c972c7-1d60-4238-95a2-7d5e43e7f674",
   "metadata": {},
   "outputs": [
    {
     "data": {
      "image/png": "[encoded data removed]",
      "text/plain": [
       "<Figure size 640x480 with 1 Axes>"
      ]
     },
     "metadata": {},
     "output_type": "display_data"
    },
    {
     "data": {
      "text/plain": [
       "0.6248012718600954"
      ]
     },
     "execution_count": 19,
     "metadata": {},
     "output_type": "execute_result"
    }
   ],
   "source": [
    "# Plot treatment years represented in merged data\n",
    "\n",
    "df_mstr['Treatment Year'].hist(bins=50)\n",
    "plt.title('Treatment Years Represented in CoRes Data')\n",
    "plt.show()\n",
    "\n",
    "# size of treated vs. not treated, by year\n",
    "df_mstr['Treatment Year'].notnull().sum()/len(df_mstr)"
   ]
  },
  {
   "cell_type": "code",
   "execution_count": 20,
   "id": "da4a8e1a-2ff8-427d-8c6d-6e140bef1213",
   "metadata": {},
   "outputs": [],
   "source": [
    "# create treatment cohorts\n",
    "\n",
    "def treatment_cohort(treatment_year):\n",
    "    \"\"\"Takes treatment year and assigns to a cohort\"\"\"\n",
    "    if pd.isna(treatment_year):\n",
    "        return np.nan\n",
    "    floor_decade = int((treatment_year)//10*10)\n",
    "    ceiling_decade = floor_decade + 9\n",
    "    treatment_cohort = f\"{floor_decade}-{ceiling_decade}\"\n",
    "    return(treatment_cohort)\n",
    "    "
   ]
  },
  {
   "cell_type": "code",
   "execution_count": 21,
   "id": "6b941fab-ca06-4770-8271-9aa80255cef3",
   "metadata": {},
   "outputs": [],
   "source": [
    "# create treatment cohorts using formula\n",
    "df_mstr['Treatment Cohort'] = df_mstr['Treatment Year'].apply(lambda x: treatment_cohort(x))"
   ]
  },
  {
   "cell_type": "code",
   "execution_count": 41,
   "id": "8b5adc0f-3a47-4b1a-9cce-821806cbf8ea",
   "metadata": {},
   "outputs": [],
   "source": [
    "# define viable cohorts as those having n>30\n",
    "\n",
    "viable_cohorts = df_mstr['Treatment Cohort'].value_counts().loc[lambda x: x >=30].index\n",
    "viable_cohorts = sorted(viable_cohorts)"
   ]
  },
  {
   "cell_type": "code",
   "execution_count": 42,
   "id": "3d572afa-e31c-458f-87d7-fe1d4acb63c9",
   "metadata": {},
   "outputs": [],
   "source": [
    "# OnTreat column tracks which entities and years have received treatment\n",
    "\n",
    "df_mstr['OnTreat'] = (\n",
    "    (df_mstr['Year']>=df_mstr['Treatment Year']) \n",
    "    & df_mstr['Treatment'].eq(1)\n",
    ").astype(int)\n"
   ]
  },
  {
   "cell_type": "markdown",
   "id": "897079d4-93ab-418a-85e0-920399135a93",
   "metadata": {},
   "source": [
    "# Staggered DiD"
   ]
  },
  {
   "cell_type": "code",
   "execution_count": 46,
   "id": "e328012e-d829-4b1b-b0a5-1b2f76cdb4ec",
   "metadata": {},
   "outputs": [
    {
     "name": "stdout",
     "output_type": "stream",
     "text": [
      "1970-1979\n",
      "1980-1989\n",
      "1990-1999\n",
      "2000-2009\n",
      "2010-2019\n",
      "2020-2029\n"
     ]
    },
    {
     "name": "stderr",
     "output_type": "stream",
     "text": [
      "/Users/lilianburgler/anaconda3/lib/python3.10/site-packages/statsmodels/regression/linear_model.py:1854: RuntimeWarning: invalid value encountered in sqrt\n",
      "  return np.sqrt(np.diag(self.cov_params()))\n",
      "/Users/lilianburgler/anaconda3/lib/python3.10/site-packages/statsmodels/regression/linear_model.py:1854: RuntimeWarning: invalid value encountered in sqrt\n",
      "  return np.sqrt(np.diag(self.cov_params()))\n",
      "/Users/lilianburgler/anaconda3/lib/python3.10/site-packages/statsmodels/regression/linear_model.py:1854: RuntimeWarning: invalid value encountered in sqrt\n",
      "  return np.sqrt(np.diag(self.cov_params()))\n",
      "/Users/lilianburgler/anaconda3/lib/python3.10/site-packages/statsmodels/regression/linear_model.py:1854: RuntimeWarning: invalid value encountered in sqrt\n",
      "  return np.sqrt(np.diag(self.cov_params()))\n"
     ]
    }
   ],
   "source": [
    "# DiD\n",
    "\n",
    "# initiate dictionaries to store results\n",
    "results = {}\n",
    "warn_log = {}\n",
    "custom_summary = []\n",
    "\n",
    "Y = 'Gini_recon_hybrid'\n",
    "target = 'Treatment:OnTreat'\n",
    "\n",
    "for cohort in viable_cohorts:\n",
    "    treated_mask = df_mstr['Treatment Cohort']==cohort\n",
    "    treated = df_mstr[treated_mask]\n",
    "    print(cohort)\n",
    "    \n",
    "    benchmark_year = treated['Treatment Year'].mode().iat[0]\n",
    "    \n",
    "    # control groups:\n",
    "    # never treated & not-yet-treated (where years come before treatment)\n",
    "    never_treated_mask = df_mstr['Treatment']== 0\n",
    "    not_yet_treated_mask = (df_mstr['Treatment Year'].gt(benchmark_year) \n",
    "                            & df_mstr['Year'].lt(df_mstr['Treatment Year']))\n",
    "    control_mask = never_treated_mask | not_yet_treated_mask\n",
    "                            \n",
    "    subset = df_mstr.loc[treated_mask | control_mask].copy()\n",
    "    \n",
    "    # identify countries with fewer than 2 observations\n",
    "    singleton_countries = subset['Country'].value_counts().loc[lambda x: x<2]\n",
    "    \n",
    "    # drop singleton countries\n",
    "    subset = subset[~subset['Country'].isin(singleton_countries)].copy()\n",
    "    \n",
    "    # DiD formula\n",
    "    formula = f\"{Y} ~ Treatment:OnTreat + C(Year) + C(Country)\"\n",
    "    \n",
    "    result = smf.ols(formula=formula, data=subset).fit(\n",
    "        cov_type = 'cluster',\n",
    "        cov_kwds = {'groups': subset['Country']}\n",
    "    )\n",
    "    \n",
    "    results[cohort] = result\n",
    "    \n",
    "    # generate DiD stats\n",
    "    coef = result.params.get(target, np.nan)\n",
    "    se = result.bse.get(target, np.nan)\n",
    "    tval = result.tvalues.get(target, np.nan)\n",
    "    pval = result.pvalues.get(target, np.nan)\n",
    "    \n",
    "    # gather DiD stats\n",
    "    custom_summary.append({\n",
    "        \"cohort\" : cohort,\n",
    "        \"coef\": coef,\n",
    "        \"se\":se,\n",
    "        \"tval\": tval,\n",
    "        \"pval\": pval\n",
    "    }\n",
    "    )\n",
    "    \n",
    "    # collect warnings in warn_log\n",
    "    if pd.isna(se):\n",
    "        warn_log.setdefault(cohort, []).append(\"DiD SE is NaN\")\n",
    "    if se==0:\n",
    "        warn_log.setdefault(cohort, []).append(\"DiD SE is zero\")\n",
    "    if not np.isfinite(se):\n",
    "        warn_log.setdefault(cohort, []).append(\"DiD SE if infinite\")\n",
    "        \n",
    "    \n",
    "    # capture results and warnings in dictionaries\n",
    "    results[cohort] = result\n",
    "    \n"
   ]
  },
  {
   "cell_type": "code",
   "execution_count": 47,
   "id": "bdca8017-e5b5-4793-a898-5169584e3c23",
   "metadata": {},
   "outputs": [
    {
     "data": {
      "text/plain": [
       "[{'cohort': '1970-1979',\n",
       "  'coef': 2.8889117494520664,\n",
       "  'se': 0.5345636155427484,\n",
       "  'tval': 5.404243134877262,\n",
       "  'pval': 6.508261488643635e-08},\n",
       " {'cohort': '1980-1989',\n",
       "  'coef': 1.213950984903365,\n",
       "  'se': 0.40867545674181344,\n",
       "  'tval': 2.970452384348336,\n",
       "  'pval': 0.0029736149917607988},\n",
       " {'cohort': '1990-1999',\n",
       "  'coef': 1.823349284265865,\n",
       "  'se': 1.9423451181599938,\n",
       "  'tval': 0.9387359986741929,\n",
       "  'pval': 0.34786630594759493},\n",
       " {'cohort': '2000-2009',\n",
       "  'coef': 0.5638941976544919,\n",
       "  'se': 0.701118542193891,\n",
       "  'tval': 0.8042779697281913,\n",
       "  'pval': 0.42123645780859365},\n",
       " {'cohort': '2010-2019',\n",
       "  'coef': -0.4754814781960799,\n",
       "  'se': 0.5399946426269568,\n",
       "  'tval': -0.8805299917105948,\n",
       "  'pval': 0.37857226519026177},\n",
       " {'cohort': '2020-2029', 'coef': 0.0, 'se': 0.0, 'tval': nan, 'pval': nan}]"
      ]
     },
     "execution_count": 47,
     "metadata": {},
     "output_type": "execute_result"
    }
   ],
   "source": [
    "custom_summary"
   ]
  },
  {
   "cell_type": "code",
   "execution_count": 48,
   "id": "b40c992a-ac2e-444e-9bbe-ebffa4a06351",
   "metadata": {},
   "outputs": [
    {
     "data": {
      "text/plain": [
       "{'2020-2029': ['DiD SE is zero']}"
      ]
     },
     "execution_count": 48,
     "metadata": {},
     "output_type": "execute_result"
    }
   ],
   "source": [
    "warn_log"
   ]
  },
  {
   "cell_type": "code",
   "execution_count": 38,
   "id": "fd06a8fb-bffd-46a7-88e2-7f49a28e5e4b",
   "metadata": {},
   "outputs": [
    {
     "data": {
      "text/plain": [
       "Intercept                  0.395955\n",
       "C(Country)[T.Algeria]      0.374068\n",
       "C(Country)[T.Argentina]    0.450521\n",
       "C(Country)[T.Armenia]      0.354862\n",
       "C(Country)[T.Australia]    0.408159\n",
       "                             ...   \n",
       "C(Year)[T.2018]            1.174476\n",
       "C(Year)[T.2019]            0.706596\n",
       "C(Year)[T.2020]            0.428090\n",
       "C(Year)[T.2021]            0.578374\n",
       "Treatment:OnTreat          0.439412\n",
       "Length: 145, dtype: float64"
      ]
     },
     "execution_count": 38,
     "metadata": {},
     "output_type": "execute_result"
    }
   ],
   "source": [
    "results['1970-1979'].bse"
   ]
  },
  {
   "cell_type": "code",
   "execution_count": 83,
   "id": "c47ebc88-6649-4c5a-a780-af5c1193eac3",
   "metadata": {},
   "outputs": [
    {
     "data": {
      "text/plain": [
       "Treatment         0\n",
       "post_treatment    0\n",
       "Year              0\n",
       "Country           0\n",
       "dtype: int64"
      ]
     },
     "execution_count": 83,
     "metadata": {},
     "output_type": "execute_result"
    }
   ],
   "source": [
    "# check for any nulls\n",
    "model_vars = ['Treatment', 'OnTreat', 'Year', 'Country']\n",
    "\n",
    "subset[model_vars].isna().sum()"
   ]
  },
  {
   "cell_type": "code",
   "execution_count": 70,
   "id": "7cac5b74-7975-4a6f-9cba-364c0cde80cd",
   "metadata": {},
   "outputs": [
    {
     "data": {
      "text/plain": [
       "11"
      ]
     },
     "execution_count": 70,
     "metadata": {},
     "output_type": "execute_result"
    }
   ],
   "source": [
    "# check for singular countries\n",
    "\n",
    "singleton_countries = subset['Country'].value_counts().loc[lambda x: x==1]\n",
    "len(singleton_countries)"
   ]
  },
  {
   "cell_type": "code",
   "execution_count": 69,
   "id": "2af03dcb-a4d6-44e2-94d6-b2ca6f09311a",
   "metadata": {},
   "outputs": [
    {
     "data": {
      "text/plain": [
       "12"
      ]
     },
     "execution_count": 69,
     "metadata": {},
     "output_type": "execute_result"
    }
   ],
   "source": [
    "# check for singular years\n",
    "\n",
    "singleton_years = subset['Year'].value_counts().loc[lambda x: x==1]\n",
    "len(singleton_years)"
   ]
  },
  {
   "cell_type": "code",
   "execution_count": 91,
   "id": "db9d5a8b-dd9b-4ae6-9d83-d36601766ead",
   "metadata": {},
   "outputs": [
    {
     "data": {
      "text/plain": [
       "Year\n",
       "1962    1\n",
       "1964    1\n",
       "1968    1\n",
       "1969    1\n",
       "1971    1\n",
       "1972    1\n",
       "1973    1\n",
       "1974    1\n",
       "1976    1\n",
       "1979    1\n",
       "1981    1\n",
       "1982    1\n",
       "1984    1\n",
       "1986    1\n",
       "1987    1\n",
       "1988    1\n",
       "1989    1\n",
       "2020    1\n",
       "Name: Treatment, dtype: int64"
      ]
     },
     "execution_count": 91,
     "metadata": {},
     "output_type": "execute_result"
    }
   ],
   "source": [
    "\n",
    "subset.groupby('Year')['Treatment'].nunique().loc[lambda x: x<2]"
   ]
  },
  {
   "cell_type": "code",
   "execution_count": null,
   "id": "3e40f33e-be61-4ef8-be88-11f40341263d",
   "metadata": {},
   "outputs": [],
   "source": []
  }
 ],
 "metadata": {
  "kernelspec": {
   "display_name": "Python 3 (ipykernel)",
   "language": "python",
   "name": "python3"
  },
  "language_info": {
   "codemirror_mode": {
    "name": "ipython",
    "version": 3
   },
   "file_extension": ".py",
   "mimetype": "text/x-python",
   "name": "python",
   "nbconvert_exporter": "python",
   "pygments_lexer": "ipython3",
   "version": "3.10.9"
  }
 },
 "nbformat": 4,
 "nbformat_minor": 5
}
